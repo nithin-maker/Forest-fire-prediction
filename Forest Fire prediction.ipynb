{
 "cells": [
  {
   "cell_type": "markdown",
   "metadata": {},
   "source": [
    "# Forest Fire Prediction"
   ]
  },
  {
   "cell_type": "markdown",
   "metadata": {},
   "source": [
    "several Data Mining methods were applied. After fitting the models, the outputs were\n",
    "post-processed with the inverse of the ln(x+1) transform. Four different input setups were\n",
    "used. The experiments were conducted using a 10-fold (cross-validation) x 30 runs. Two\n",
    "regression metrics were measured: MAD and RMSE. A Gaussian support vector machine (SVM) fed\n",
    "with only 4 direct weather conditions (temp, RH, wind and rain) obtained the best MAD value:\n",
    "12.71 +- 0.01 (mean and confidence interval within 95% using a t-student distribution). The\n",
    "best RMSE was attained by the naive mean predictor. An analysis to the regression error curve\n",
    "(REC) shows that the SVM model predicts more examples within a lower admitted error. In effect,\n",
    "the SVM model predicts better small fires, which are the majority.\n",
    "\n",
    "Relevant Information:\n",
    "\n",
    "This is a very difficult regression task. It can be used to test regression methods. Also,\n",
    "it could be used to test outlier detection methods, since it is not clear how many outliers\n",
    "are there. Yet, the number of examples of fires with a large burned area is very small.\n",
    "\n",
    "Number of Instances: 517\n",
    "\n",
    "Number of Attributes: 12 + output attribute\n",
    "\n",
    "Note: several of the attributes may be correlated, thus it makes sense to apply some sort of\n",
    "feature selection.\n",
    "\n",
    "Attribute information:\n",
    "\n",
    "For more information, read [Cortez and Morais, 2007].\n",
    "\n",
    "X - x-axis spatial coordinate within the Montesinho park map: 1 to 9\n",
    "Y - y-axis spatial coordinate within the Montesinho park map: 2 to 9\n",
    "month - month of the year: \"jan\" to \"dec\"\n",
    "day - day of the week: \"mon\" to \"sun\"\n",
    "FFMC - FFMC index from the FWI system: 18.7 to 96.20\n",
    "DMC - DMC index from the FWI system: 1.1 to 291.3\n",
    "DC - DC index from the FWI system: 7.9 to 860.6\n",
    "ISI - ISI index from the FWI system: 0.0 to 56.10\n",
    "temp - temperature in Celsius degrees: 2.2 to 33.30\n",
    "RH - relative humidity in %: 15.0 to 100\n",
    "wind - wind speed in km/h: 0.40 to 9.40\n",
    "rain - outside rain in mm/m2 : 0.0 to 6.4\n",
    "area - the burned area of the forest (in ha): 0.00 to 1090.84\n",
    "(this output variable is very skewed towards 0.0, thus it may make\n",
    "sense to model with the logarithm transform).\n",
    "Missing Attribute Values: None"
   ]
  },
  {
   "cell_type": "code",
   "execution_count": 2,
   "metadata": {},
   "outputs": [
    {
     "data": {
      "text/plain": [
       "'C:\\\\Users\\\\gokul\\\\Desktop\\\\Forest fire Prediction'"
      ]
     },
     "execution_count": 2,
     "metadata": {},
     "output_type": "execute_result"
    }
   ],
   "source": [
    "pwd"
   ]
  },
  {
   "cell_type": "code",
   "execution_count": 1,
   "metadata": {},
   "outputs": [
    {
     "name": "stdout",
     "output_type": "stream",
     "text": [
      "Collecting findspark\n",
      "  Downloading findspark-1.4.2-py2.py3-none-any.whl (4.2 kB)\n",
      "Installing collected packages: findspark\n",
      "Successfully installed findspark-1.4.2\n"
     ]
    }
   ],
   "source": [
    "!pip install findspark"
   ]
  },
  {
   "cell_type": "code",
   "execution_count": 4,
   "metadata": {},
   "outputs": [],
   "source": [
    "import pandas as pd\n",
    "import sweetviz as sz\n",
    "import numpy as np\n",
    "import seaborn as sns\n",
    "import matplotlib.pyplot as plt\n",
    "\n",
    "from IPython.core.interactiveshell import InteractiveShell\n",
    "InteractiveShell.ast_node_interactivity = \"all\""
   ]
  },
  {
   "cell_type": "code",
   "execution_count": 5,
   "metadata": {},
   "outputs": [],
   "source": [
    "datae = pd.read_csv('forestfires.csv')"
   ]
  },
  {
   "cell_type": "code",
   "execution_count": 4,
   "metadata": {},
   "outputs": [
    {
     "data": {
      "text/html": [
       "<div>\n",
       "<style scoped>\n",
       "    .dataframe tbody tr th:only-of-type {\n",
       "        vertical-align: middle;\n",
       "    }\n",
       "\n",
       "    .dataframe tbody tr th {\n",
       "        vertical-align: top;\n",
       "    }\n",
       "\n",
       "    .dataframe thead th {\n",
       "        text-align: right;\n",
       "    }\n",
       "</style>\n",
       "<table border=\"1\" class=\"dataframe\">\n",
       "  <thead>\n",
       "    <tr style=\"text-align: right;\">\n",
       "      <th></th>\n",
       "      <th>X</th>\n",
       "      <th>Y</th>\n",
       "      <th>month</th>\n",
       "      <th>day</th>\n",
       "      <th>FFMC</th>\n",
       "      <th>DMC</th>\n",
       "      <th>DC</th>\n",
       "      <th>ISI</th>\n",
       "      <th>temp</th>\n",
       "      <th>RH</th>\n",
       "      <th>wind</th>\n",
       "      <th>rain</th>\n",
       "      <th>area</th>\n",
       "    </tr>\n",
       "  </thead>\n",
       "  <tbody>\n",
       "    <tr>\n",
       "      <th>0</th>\n",
       "      <td>7</td>\n",
       "      <td>5</td>\n",
       "      <td>mar</td>\n",
       "      <td>fri</td>\n",
       "      <td>86.2</td>\n",
       "      <td>26.2</td>\n",
       "      <td>94.3</td>\n",
       "      <td>5.1</td>\n",
       "      <td>8.2</td>\n",
       "      <td>51</td>\n",
       "      <td>6.7</td>\n",
       "      <td>0.0</td>\n",
       "      <td>0.00</td>\n",
       "    </tr>\n",
       "    <tr>\n",
       "      <th>1</th>\n",
       "      <td>7</td>\n",
       "      <td>4</td>\n",
       "      <td>oct</td>\n",
       "      <td>tue</td>\n",
       "      <td>90.6</td>\n",
       "      <td>35.4</td>\n",
       "      <td>669.1</td>\n",
       "      <td>6.7</td>\n",
       "      <td>18.0</td>\n",
       "      <td>33</td>\n",
       "      <td>0.9</td>\n",
       "      <td>0.0</td>\n",
       "      <td>0.00</td>\n",
       "    </tr>\n",
       "    <tr>\n",
       "      <th>2</th>\n",
       "      <td>7</td>\n",
       "      <td>4</td>\n",
       "      <td>oct</td>\n",
       "      <td>sat</td>\n",
       "      <td>90.6</td>\n",
       "      <td>43.7</td>\n",
       "      <td>686.9</td>\n",
       "      <td>6.7</td>\n",
       "      <td>14.6</td>\n",
       "      <td>33</td>\n",
       "      <td>1.3</td>\n",
       "      <td>0.0</td>\n",
       "      <td>0.00</td>\n",
       "    </tr>\n",
       "    <tr>\n",
       "      <th>3</th>\n",
       "      <td>8</td>\n",
       "      <td>6</td>\n",
       "      <td>mar</td>\n",
       "      <td>fri</td>\n",
       "      <td>91.7</td>\n",
       "      <td>33.3</td>\n",
       "      <td>77.5</td>\n",
       "      <td>9.0</td>\n",
       "      <td>8.3</td>\n",
       "      <td>97</td>\n",
       "      <td>4.0</td>\n",
       "      <td>0.2</td>\n",
       "      <td>0.00</td>\n",
       "    </tr>\n",
       "    <tr>\n",
       "      <th>4</th>\n",
       "      <td>8</td>\n",
       "      <td>6</td>\n",
       "      <td>mar</td>\n",
       "      <td>sun</td>\n",
       "      <td>89.3</td>\n",
       "      <td>51.3</td>\n",
       "      <td>102.2</td>\n",
       "      <td>9.6</td>\n",
       "      <td>11.4</td>\n",
       "      <td>99</td>\n",
       "      <td>1.8</td>\n",
       "      <td>0.0</td>\n",
       "      <td>0.00</td>\n",
       "    </tr>\n",
       "    <tr>\n",
       "      <th>...</th>\n",
       "      <td>...</td>\n",
       "      <td>...</td>\n",
       "      <td>...</td>\n",
       "      <td>...</td>\n",
       "      <td>...</td>\n",
       "      <td>...</td>\n",
       "      <td>...</td>\n",
       "      <td>...</td>\n",
       "      <td>...</td>\n",
       "      <td>...</td>\n",
       "      <td>...</td>\n",
       "      <td>...</td>\n",
       "      <td>...</td>\n",
       "    </tr>\n",
       "    <tr>\n",
       "      <th>512</th>\n",
       "      <td>4</td>\n",
       "      <td>3</td>\n",
       "      <td>aug</td>\n",
       "      <td>sun</td>\n",
       "      <td>81.6</td>\n",
       "      <td>56.7</td>\n",
       "      <td>665.6</td>\n",
       "      <td>1.9</td>\n",
       "      <td>27.8</td>\n",
       "      <td>32</td>\n",
       "      <td>2.7</td>\n",
       "      <td>0.0</td>\n",
       "      <td>6.44</td>\n",
       "    </tr>\n",
       "    <tr>\n",
       "      <th>513</th>\n",
       "      <td>2</td>\n",
       "      <td>4</td>\n",
       "      <td>aug</td>\n",
       "      <td>sun</td>\n",
       "      <td>81.6</td>\n",
       "      <td>56.7</td>\n",
       "      <td>665.6</td>\n",
       "      <td>1.9</td>\n",
       "      <td>21.9</td>\n",
       "      <td>71</td>\n",
       "      <td>5.8</td>\n",
       "      <td>0.0</td>\n",
       "      <td>54.29</td>\n",
       "    </tr>\n",
       "    <tr>\n",
       "      <th>514</th>\n",
       "      <td>7</td>\n",
       "      <td>4</td>\n",
       "      <td>aug</td>\n",
       "      <td>sun</td>\n",
       "      <td>81.6</td>\n",
       "      <td>56.7</td>\n",
       "      <td>665.6</td>\n",
       "      <td>1.9</td>\n",
       "      <td>21.2</td>\n",
       "      <td>70</td>\n",
       "      <td>6.7</td>\n",
       "      <td>0.0</td>\n",
       "      <td>11.16</td>\n",
       "    </tr>\n",
       "    <tr>\n",
       "      <th>515</th>\n",
       "      <td>1</td>\n",
       "      <td>4</td>\n",
       "      <td>aug</td>\n",
       "      <td>sat</td>\n",
       "      <td>94.4</td>\n",
       "      <td>146.0</td>\n",
       "      <td>614.7</td>\n",
       "      <td>11.3</td>\n",
       "      <td>25.6</td>\n",
       "      <td>42</td>\n",
       "      <td>4.0</td>\n",
       "      <td>0.0</td>\n",
       "      <td>0.00</td>\n",
       "    </tr>\n",
       "    <tr>\n",
       "      <th>516</th>\n",
       "      <td>6</td>\n",
       "      <td>3</td>\n",
       "      <td>nov</td>\n",
       "      <td>tue</td>\n",
       "      <td>79.5</td>\n",
       "      <td>3.0</td>\n",
       "      <td>106.7</td>\n",
       "      <td>1.1</td>\n",
       "      <td>11.8</td>\n",
       "      <td>31</td>\n",
       "      <td>4.5</td>\n",
       "      <td>0.0</td>\n",
       "      <td>0.00</td>\n",
       "    </tr>\n",
       "  </tbody>\n",
       "</table>\n",
       "<p>517 rows × 13 columns</p>\n",
       "</div>"
      ],
      "text/plain": [
       "     X  Y month  day  FFMC    DMC     DC   ISI  temp  RH  wind  rain   area\n",
       "0    7  5   mar  fri  86.2   26.2   94.3   5.1   8.2  51   6.7   0.0   0.00\n",
       "1    7  4   oct  tue  90.6   35.4  669.1   6.7  18.0  33   0.9   0.0   0.00\n",
       "2    7  4   oct  sat  90.6   43.7  686.9   6.7  14.6  33   1.3   0.0   0.00\n",
       "3    8  6   mar  fri  91.7   33.3   77.5   9.0   8.3  97   4.0   0.2   0.00\n",
       "4    8  6   mar  sun  89.3   51.3  102.2   9.6  11.4  99   1.8   0.0   0.00\n",
       "..  .. ..   ...  ...   ...    ...    ...   ...   ...  ..   ...   ...    ...\n",
       "512  4  3   aug  sun  81.6   56.7  665.6   1.9  27.8  32   2.7   0.0   6.44\n",
       "513  2  4   aug  sun  81.6   56.7  665.6   1.9  21.9  71   5.8   0.0  54.29\n",
       "514  7  4   aug  sun  81.6   56.7  665.6   1.9  21.2  70   6.7   0.0  11.16\n",
       "515  1  4   aug  sat  94.4  146.0  614.7  11.3  25.6  42   4.0   0.0   0.00\n",
       "516  6  3   nov  tue  79.5    3.0  106.7   1.1  11.8  31   4.5   0.0   0.00\n",
       "\n",
       "[517 rows x 13 columns]"
      ]
     },
     "execution_count": 4,
     "metadata": {},
     "output_type": "execute_result"
    }
   ],
   "source": [
    "datae"
   ]
  },
  {
   "cell_type": "markdown",
   "metadata": {},
   "source": [
    "## Lets make the area to gaussian( Exponential) "
   ]
  },
  {
   "cell_type": "code",
   "execution_count": 5,
   "metadata": {},
   "outputs": [],
   "source": [
    "datae['area'] = datae.area**(1/5) "
   ]
  },
  {
   "cell_type": "code",
   "execution_count": 6,
   "metadata": {},
   "outputs": [
    {
     "name": "stdout",
     "output_type": "stream",
     "text": [
      "<class 'pandas.core.frame.DataFrame'>\n",
      "RangeIndex: 517 entries, 0 to 516\n",
      "Data columns (total 13 columns):\n",
      " #   Column  Non-Null Count  Dtype  \n",
      "---  ------  --------------  -----  \n",
      " 0   X       517 non-null    int64  \n",
      " 1   Y       517 non-null    int64  \n",
      " 2   month   517 non-null    object \n",
      " 3   day     517 non-null    object \n",
      " 4   FFMC    517 non-null    float64\n",
      " 5   DMC     517 non-null    float64\n",
      " 6   DC      517 non-null    float64\n",
      " 7   ISI     517 non-null    float64\n",
      " 8   temp    517 non-null    float64\n",
      " 9   RH      517 non-null    int64  \n",
      " 10  wind    517 non-null    float64\n",
      " 11  rain    517 non-null    float64\n",
      " 12  area    517 non-null    float64\n",
      "dtypes: float64(8), int64(3), object(2)\n",
      "memory usage: 52.6+ KB\n"
     ]
    }
   ],
   "source": [
    "datae.info()"
   ]
  },
  {
   "cell_type": "code",
   "execution_count": 7,
   "metadata": {},
   "outputs": [
    {
     "data": {
      "text/html": [
       "<div>\n",
       "<style scoped>\n",
       "    .dataframe tbody tr th:only-of-type {\n",
       "        vertical-align: middle;\n",
       "    }\n",
       "\n",
       "    .dataframe tbody tr th {\n",
       "        vertical-align: top;\n",
       "    }\n",
       "\n",
       "    .dataframe thead th {\n",
       "        text-align: right;\n",
       "    }\n",
       "</style>\n",
       "<table border=\"1\" class=\"dataframe\">\n",
       "  <thead>\n",
       "    <tr style=\"text-align: right;\">\n",
       "      <th></th>\n",
       "      <th>X</th>\n",
       "      <th>Y</th>\n",
       "      <th>FFMC</th>\n",
       "      <th>DMC</th>\n",
       "      <th>DC</th>\n",
       "      <th>ISI</th>\n",
       "      <th>temp</th>\n",
       "      <th>RH</th>\n",
       "      <th>wind</th>\n",
       "      <th>rain</th>\n",
       "      <th>area</th>\n",
       "    </tr>\n",
       "  </thead>\n",
       "  <tbody>\n",
       "    <tr>\n",
       "      <th>count</th>\n",
       "      <td>517.000000</td>\n",
       "      <td>517.000000</td>\n",
       "      <td>517.000000</td>\n",
       "      <td>517.000000</td>\n",
       "      <td>517.000000</td>\n",
       "      <td>517.000000</td>\n",
       "      <td>517.000000</td>\n",
       "      <td>517.000000</td>\n",
       "      <td>517.000000</td>\n",
       "      <td>517.000000</td>\n",
       "      <td>517.000000</td>\n",
       "    </tr>\n",
       "    <tr>\n",
       "      <th>mean</th>\n",
       "      <td>4.669246</td>\n",
       "      <td>4.299807</td>\n",
       "      <td>90.644681</td>\n",
       "      <td>110.872340</td>\n",
       "      <td>547.940039</td>\n",
       "      <td>9.021663</td>\n",
       "      <td>18.889168</td>\n",
       "      <td>44.288201</td>\n",
       "      <td>4.017602</td>\n",
       "      <td>0.021663</td>\n",
       "      <td>0.792384</td>\n",
       "    </tr>\n",
       "    <tr>\n",
       "      <th>std</th>\n",
       "      <td>2.313778</td>\n",
       "      <td>1.229900</td>\n",
       "      <td>5.520111</td>\n",
       "      <td>64.046482</td>\n",
       "      <td>248.066192</td>\n",
       "      <td>4.559477</td>\n",
       "      <td>5.806625</td>\n",
       "      <td>16.317469</td>\n",
       "      <td>1.791653</td>\n",
       "      <td>0.295959</td>\n",
       "      <td>0.839986</td>\n",
       "    </tr>\n",
       "    <tr>\n",
       "      <th>min</th>\n",
       "      <td>1.000000</td>\n",
       "      <td>2.000000</td>\n",
       "      <td>18.700000</td>\n",
       "      <td>1.100000</td>\n",
       "      <td>7.900000</td>\n",
       "      <td>0.000000</td>\n",
       "      <td>2.200000</td>\n",
       "      <td>15.000000</td>\n",
       "      <td>0.400000</td>\n",
       "      <td>0.000000</td>\n",
       "      <td>0.000000</td>\n",
       "    </tr>\n",
       "    <tr>\n",
       "      <th>25%</th>\n",
       "      <td>3.000000</td>\n",
       "      <td>4.000000</td>\n",
       "      <td>90.200000</td>\n",
       "      <td>68.600000</td>\n",
       "      <td>437.700000</td>\n",
       "      <td>6.500000</td>\n",
       "      <td>15.500000</td>\n",
       "      <td>33.000000</td>\n",
       "      <td>2.700000</td>\n",
       "      <td>0.000000</td>\n",
       "      <td>0.000000</td>\n",
       "    </tr>\n",
       "    <tr>\n",
       "      <th>50%</th>\n",
       "      <td>4.000000</td>\n",
       "      <td>4.000000</td>\n",
       "      <td>91.600000</td>\n",
       "      <td>108.300000</td>\n",
       "      <td>664.200000</td>\n",
       "      <td>8.400000</td>\n",
       "      <td>19.300000</td>\n",
       "      <td>42.000000</td>\n",
       "      <td>4.000000</td>\n",
       "      <td>0.000000</td>\n",
       "      <td>0.877406</td>\n",
       "    </tr>\n",
       "    <tr>\n",
       "      <th>75%</th>\n",
       "      <td>7.000000</td>\n",
       "      <td>5.000000</td>\n",
       "      <td>92.900000</td>\n",
       "      <td>142.400000</td>\n",
       "      <td>713.900000</td>\n",
       "      <td>10.800000</td>\n",
       "      <td>22.800000</td>\n",
       "      <td>53.000000</td>\n",
       "      <td>4.900000</td>\n",
       "      <td>0.000000</td>\n",
       "      <td>1.457180</td>\n",
       "    </tr>\n",
       "    <tr>\n",
       "      <th>max</th>\n",
       "      <td>9.000000</td>\n",
       "      <td>9.000000</td>\n",
       "      <td>96.200000</td>\n",
       "      <td>291.300000</td>\n",
       "      <td>860.600000</td>\n",
       "      <td>56.100000</td>\n",
       "      <td>33.300000</td>\n",
       "      <td>100.000000</td>\n",
       "      <td>9.400000</td>\n",
       "      <td>6.400000</td>\n",
       "      <td>4.050906</td>\n",
       "    </tr>\n",
       "  </tbody>\n",
       "</table>\n",
       "</div>"
      ],
      "text/plain": [
       "                X           Y        FFMC         DMC          DC         ISI  \\\n",
       "count  517.000000  517.000000  517.000000  517.000000  517.000000  517.000000   \n",
       "mean     4.669246    4.299807   90.644681  110.872340  547.940039    9.021663   \n",
       "std      2.313778    1.229900    5.520111   64.046482  248.066192    4.559477   \n",
       "min      1.000000    2.000000   18.700000    1.100000    7.900000    0.000000   \n",
       "25%      3.000000    4.000000   90.200000   68.600000  437.700000    6.500000   \n",
       "50%      4.000000    4.000000   91.600000  108.300000  664.200000    8.400000   \n",
       "75%      7.000000    5.000000   92.900000  142.400000  713.900000   10.800000   \n",
       "max      9.000000    9.000000   96.200000  291.300000  860.600000   56.100000   \n",
       "\n",
       "             temp          RH        wind        rain        area  \n",
       "count  517.000000  517.000000  517.000000  517.000000  517.000000  \n",
       "mean    18.889168   44.288201    4.017602    0.021663    0.792384  \n",
       "std      5.806625   16.317469    1.791653    0.295959    0.839986  \n",
       "min      2.200000   15.000000    0.400000    0.000000    0.000000  \n",
       "25%     15.500000   33.000000    2.700000    0.000000    0.000000  \n",
       "50%     19.300000   42.000000    4.000000    0.000000    0.877406  \n",
       "75%     22.800000   53.000000    4.900000    0.000000    1.457180  \n",
       "max     33.300000  100.000000    9.400000    6.400000    4.050906  "
      ]
     },
     "execution_count": 7,
     "metadata": {},
     "output_type": "execute_result"
    }
   ],
   "source": [
    "datae.describe()"
   ]
  },
  {
   "cell_type": "code",
   "execution_count": 8,
   "metadata": {},
   "outputs": [
    {
     "name": "stdout",
     "output_type": "stream",
     "text": [
      "X [7 8 6 5 4 2 9 1 3] int64\n",
      "Y [5 4 6 3 2 9 8] int64\n",
      "month ['mar' 'oct' 'aug' 'sep' 'apr' 'jun' 'jul' 'feb' 'jan' 'dec' 'may' 'nov'] object\n",
      "day ['fri' 'tue' 'sat' 'sun' 'mon' 'wed' 'thu'] object\n",
      "FFMC [86.2 90.6 91.7 89.3 92.3 91.5 91.  92.5 92.8 63.5 90.9 92.9 93.3 84.9\n",
      " 89.2 86.3 91.8 94.3 90.2 93.5 91.4 92.4 93.4 88.6 90.3 90.  88.1 79.5\n",
      " 94.8 90.1 94.2 87.2 87.6 92.1 92.6 84.  86.6 93.  91.1 91.2 88.8 84.2\n",
      " 89.7 83.9 69.  82.1 85.9 84.4 68.2 93.7 85.8 95.5 95.2 96.  85.6 81.5\n",
      " 86.8 93.9 90.8 90.7 88.3 92.2 81.9 88.  83.  93.1 91.9 91.6 87.5 93.6\n",
      " 84.6 85.4 84.7 86.9 85.2 90.4 53.4 85.1 89.6 50.4 88.2 92.  18.7 90.5\n",
      " 84.1 85.  87.9 94.6 87.1 92.7 88.9 89.4 94.  75.1 91.3 93.2 94.9 95.\n",
      " 95.1 95.8 95.9 96.2 96.1 94.5 81.6 94.4] float64\n",
      "DMC [ 26.2  35.4  43.7  33.3  51.3  85.3  88.9 145.4 129.5  88.   73.2  70.8\n",
      " 126.5 133.3 141.2  35.8  32.8  27.9  27.4  78.5  96.3 110.9 139.4 142.4\n",
      " 117.9 149.3  85.1  91.8  69.7  75.6  80.7  41.5  25.7  60.6  96.9 108.3\n",
      "  82.9  62.3  23.9  52.2 137.   99.6 111.2 114.3  46.5   9.3  13.2  75.3\n",
      " 103.2  48.3 147.3   6.8 108.  121.2  90.    8.    2.4 121.1   3.7  19.5\n",
      "  30.7  39.7 124.1  73.4  37.9  21.5  80.9  99.9 131.7  56.4  68.6  51.2\n",
      "  50.1  18.2 127.1  90.4   9.1  15.6  48.5 135.7  41.9  44.   37.6   8.7\n",
      " 150.3  81.8   3.   17.2  23.3 122.3 175.1  91.6 157.3 109.2 138.1  77.\n",
      " 117.2 170.9  97.9 112.4 141.1 167.6 102.2 152.6  27.2  27.8  26.4  25.4\n",
      "  26.7  27.5   6.6   4.9 169.7 183.1 104.2 100.2 180.4  88.8  89.5 147.8\n",
      "  71.   93.3  94.1  28.   84.1 105.8  46.2 115.4 134.7  96.2 119.  136.9\n",
      "  53.3 102.3 124.4  87.7 108.4 111.7 130.1  99.  122.   55.2 132.3  94.3\n",
      " 276.3 133.6 203.2 222.4 290.  207.  231.1  18.9   1.1 101.3 194.1 217.7\n",
      " 248.4 273.8 181.3  96.7 227.    9.5  91.3  15.    4.6   9.   49.5  88.2\n",
      "  84.8 212.1 291.3   8.2   7.3   3.2  92.1 235.1 164.1  17.3 191.4 263.1\n",
      " 287.2 178.  269.8  84.7 253.6  24.9  47.9 284.9 196.8 238.2 266.2 160.\n",
      "   4.4   3.6  15.1  18.5  20.6  14.6  61.1 103.8 121.7 103.9 114.4 130.3\n",
      " 135.5 141.3 152.  158.  164.  175.5 181.1 163.2 166.9  56.7 146. ] float64\n",
      "DC [ 94.3 669.1 686.9  77.5 102.2 488.  495.6 608.2 692.6 698.6 713.  665.3\n",
      " 686.5 699.6 713.9  80.8 664.2  70.8  97.1 724.3 200.  537.4 594.2 601.4\n",
      " 668.  721.4 728.6 692.3 709.9 706.8 718.3 730.2 682.6  67.6 366.7 624.2\n",
      " 647.1 735.7 442.9  64.7 103.8 706.4 631.2 654.1 661.3 691.8  34.   43.\n",
      " 466.6 638.8  97.8 614.5  26.6 529.8 561.6 704.4  30.2  15.5 674.4   9.3\n",
      "  57.3  74.3  86.6 680.7 671.9 673.8  87.2 685.2 313.4 513.3 296.3 578.8\n",
      " 433.3 355.2 424.1 100.4  55.  570.5 609.6  55.2  48.3 696.1 586.7  89.4\n",
      "  92.4  83.7  32.1 309.9 480.8   7.9  43.5  85.3 589.9 700.7 503.6 666.7\n",
      " 565.5 621.7 694.8 581.1 542.  573.  629.1 684.4 550.3 607.1 658.2 353.5\n",
      " 354.6 352.  349.7 352.6  18.7  15.8 411.8 437.7 474.9 466.3 430.8 440.9\n",
      " 290.8 377.2 233.8 298.1 232.1 113.8 714.3 758.1 706.6 777.1 817.5 739.4\n",
      " 783.5 822.8 726.9 751.5 795.3 721.1 764.  770.3 807.1 745.3 789.7 732.3\n",
      " 812.1 744.4 825.1 520.5 664.5 855.3 672.6 715.1  30.6 171.4 458.8 643.\n",
      " 690.  753.8 819.1 613.  750.5 706.7  58.3 738.1  25.6  46.7  56.9 297.7\n",
      " 731.7 725.1 680.9 860.6 450.2  52.8  43.6 442.1 723.1 575.8  28.3 635.9\n",
      " 795.9 849.3 605.3 811.2 376.6 768.4  41.6 368.3 100.7 844.  649.9 730.6\n",
      " 803.3 567.2  16.2  15.3  36.9  41.1  73.7 229.  252.6 316.7 350.2 395.\n",
      " 423.4 431.6 560.  587.1 596.3 605.8 624.1 633.6 661.8 671.2 689.1 752.6\n",
      " 665.6 614.7 106.7] float64\n",
      "ISI [ 5.1  6.7  9.   9.6 14.7  8.5 10.7  7.   7.1 22.6  0.8  9.2 13.9  7.8\n",
      "  3.   6.3 56.1  6.2 20.3 10.6 12.2  8.1 15.9  5.8  8.7  3.8  1.5  8.9\n",
      " 17.  11.   4.1  5.   8.8  2.1  5.3  7.7 12.5  4.8  2.6  0.7  8.6  2.9\n",
      "  2.8  7.5  3.2  5.2 17.9  3.9 13.2 10.4  7.2 16.5  6.6  2.7 11.1 15.1\n",
      "  7.9  5.5  6.8 11.9  3.5  2.3 12.9 13.8 13.5  8.  13.7 14.4 13.  14.6\n",
      " 22.7 14.3  2.   3.4 12.3  6.4 12.7  0.4  5.7  9.9  5.4  8.4  9.5  6.5\n",
      " 10.2 11.6  7.4  8.2  0.  18.   7.6 11.4 12.   2.2 14.   8.3  3.7  4.\n",
      " 12.1  3.3  9.8 10.1  5.6  9.7 16.8 16.3 16.7  1.9  1.8  7.3  4.7  9.4\n",
      " 10.8 14.1 21.3 17.7 11.3 20.   1.1] float64\n",
      "temp [ 8.2 18.  14.6  8.3 11.4 22.2 24.1  8.  13.1 22.8 17.8 19.3 17.  21.3\n",
      " 26.4 22.9 15.1 16.7 15.9  9.3 18.3 19.1 21.  19.5 23.7 16.3 19.  19.4\n",
      " 30.2 25.4 11.2 20.6 17.7 21.2 18.2 21.7 11.3 14.1 23.3 18.4 16.6 19.6\n",
      " 12.9 25.9 14.7 23.  11.8 11.  20.8 21.5 20.4 17.6 27.7 13.8 13.9 12.3\n",
      " 11.5  5.5 18.8 23.1 18.6 17.2 15.8 15.6 17.3 27.6  6.7 15.7 21.6 17.9\n",
      " 20.2 22.4 25.3 17.4 23.4 12.7 11.6 19.8 14.4 20.1  5.3 21.4 20.3 13.7\n",
      " 18.9 15.5 15.2 10.6 10.3 17.1 22.5  9.  15.4 14.  14.9 21.9 23.8 27.4\n",
      " 13.2 24.2 23.2 24.8 24.6 29.6 16.4 28.6 20.5 16.1 20.7 14.2  5.8 19.2\n",
      " 23.9 12.4 16.8 13.3 11.7 24.3 23.5 22.6  8.8 22.1  5.1 16.9 16.2 13.4\n",
      " 28.3 27.8 18.7 25.1 26.8 25.7 28.7 24.  22.3 21.8  4.8  4.6  2.2  4.2\n",
      "  7.5 12.6 26.9 14.3 16.  24.9 12.2 19.7 18.5 18.1  9.8 22.7 10.1 12.8\n",
      " 21.1 10.4  8.7  5.2 28.2 20.9 28.  25.  27.9 19.9 27.5 26.3 26.2 30.8\n",
      " 29.3 23.6 25.5 10.9 14.8  8.9 10.5 14.5 10.2 24.5 27.2 26.1 31.  33.1\n",
      " 30.6 32.4 32.6 32.3 33.3 27.3 29.2 28.9 26.7 25.6] float64\n",
      "RH [ 51  33  97  99  29  27  86  63  40  38  72  42  21  44  47  35  43  32\n",
      "  60  34  48  24  39  78  37  62  54  74  70  36  46  17  45  50  59  31\n",
      "  26  25  30  79  66  19  15  22  64  87  52  56  18  49  58  53  28  41\n",
      "  67  68  96  73  57  75  20  84  55  61  90  94  77 100  71  80  88  65\n",
      "  76  82  69] int64\n",
      "wind [6.7 0.9 1.3 4.  1.8 5.4 3.1 2.2 7.2 4.5 4.9 2.7 5.8 3.6 7.6 6.3 8.9 8.5\n",
      " 9.4 0.4 8. ] float64\n",
      "rain [0.  0.2 1.  6.4 0.8 0.4 1.4] float64\n",
      "area [0.         0.81519311 0.84468288 0.85984381 0.8873042  0.90587019\n",
      " 0.93379527 0.94906978 0.97914836 0.98979378 0.99186884 1.0136237\n",
      " 1.02292456 1.03540294 1.06342724 1.07415563 1.07862522 1.09301197\n",
      " 1.09993032 1.10264959 1.10399923 1.11065031 1.11842691 1.13697449\n",
      " 1.14172194 1.14289655 1.14984476 1.16434787 1.18023121 1.2020838\n",
      " 1.20399339 1.20589095 1.20777664 1.21885055 1.22334827 1.25149084\n",
      " 1.28473516 1.35275653 1.35750108 1.36218022 1.37304245 1.39219586\n",
      " 1.39747949 1.40320066 1.44865222 1.46853446 1.4740827  1.47745592\n",
      " 1.48369891 1.48821121 1.49226634 1.52470366 1.52728542 1.54064985\n",
      " 1.54171334 1.56573379 1.58521004 1.58552664 1.61333306 1.61715268\n",
      " 1.62238253 1.62468543 1.63066917 1.64648233 1.67156051 1.6878899\n",
      " 1.69497596 1.70880266 1.72896299 1.76646765 1.80632485 1.87879884\n",
      " 1.89178023 1.91864519 1.92056001 1.93816821 1.95638911 1.96745812\n",
      " 1.97854458 1.99648769 1.99824693 2.00087424 2.04630557 2.05725202\n",
      " 2.05914667 2.06676599 2.17389141 2.18118562 2.25493336 2.2981142\n",
      " 2.34756651 2.45120051 2.48719101 2.52869068 2.53969826 2.74156829\n",
      " 2.87517094 2.888107   2.92164182 4.05090642 1.58899265 1.23474245\n",
      " 0.94659176 0.61780085 0.94408751 1.1982278  0.92576718 0.75169602\n",
      " 0.73188671 1.08734839 1.59552682 1.51647367 1.06653673 1.54663792\n",
      " 1.26970488 1.33560423 1.45584638 0.95394957 0.70160033 1.34490168\n",
      " 0.87740614 1.56104688 1.25311721 1.55115525 1.62093656 1.40009162\n",
      " 1.7796215  1.60738512 1.85610653 1.57753467 1.90013825 1.01924488\n",
      " 1.89193636 1.51571657 1.21428543 2.4397931  1.45717957 1.28620008\n",
      " 0.83667496 1.38952368 1.70218377 1.09580031 1.30466304 1.34551244\n",
      " 2.02866638 1.48452342 1.00199205 1.16866839 1.3461221  1.27200508\n",
      " 1.45762289 1.73319469 1.62180476 1.16325766 2.23717329 1.495479\n",
      " 1.08009876 1.31485696 1.43570749 1.42276676 1.94992997 1.29979476\n",
      " 1.48861872 1.15212396 1.11456574 1.42953524 1.67181661 1.04730725\n",
      " 1.52023668 1.01738493 1.31552542 1.2398625  1.41387068 1.82111004\n",
      " 1.66092268 1.78850524 2.08443783 2.80817243 1.5053445  1.74822464\n",
      " 1.42422801 2.12046299 1.64865376 1.74110113 1.89736859 1.95748009\n",
      " 1.58362324 1.97671404 2.34399977 2.20207654 1.29485243 1.29414019\n",
      " 1.5217315  1.3769591  1.43287197 1.31619252 1.50806104 1.35808951\n",
      " 3.75474425 1.4766155  1.19530288 1.24985597 2.8430889  1.44500087\n",
      " 0.93641098 1.377515   1.18635202 1.26191469 1.44774283 1.72649399\n",
      " 0.88405392 1.45091575 0.80112962 1.04227188 1.27352936 1.57559229\n",
      " 2.41854182 1.2712402  1.40061171 1.46896423 1.26033334 1.40883002\n",
      " 1.45894961 2.27641207 2.07513814 2.3410774  1.58742095 1.261125\n",
      " 1.11970221 1.49064958 1.17186735 3.08300618 1.22423993 1.0522476\n",
      " 1.92494991 1.15662898 1.14869835 1.74972086 2.15706572 2.12489605\n",
      " 1.53744162 1.22601548 1.71137511 2.09689531 1.61007257 2.1831261\n",
      " 1.42129949 1.16759425 1.45136676 2.22302306 1.62006649] float64\n"
     ]
    }
   ],
   "source": [
    "for col in datae.columns:\n",
    "    print(col, datae[col].unique(), datae[col].dtype)"
   ]
  },
  {
   "cell_type": "markdown",
   "metadata": {},
   "source": [
    "## Visualization"
   ]
  },
  {
   "cell_type": "code",
   "execution_count": 9,
   "metadata": {},
   "outputs": [
    {
     "name": "stdout",
     "output_type": "stream",
     "text": [
      "the no of categoricals 2\n"
     ]
    }
   ],
   "source": [
    "categori = [var for var in datae.columns if datae[var].dtype == 'O']\n",
    "print('the no of categoricals', len(categori))"
   ]
  },
  {
   "cell_type": "code",
   "execution_count": 10,
   "metadata": {},
   "outputs": [
    {
     "name": "stdout",
     "output_type": "stream",
     "text": [
      "the no of numericals 11\n"
     ]
    }
   ],
   "source": [
    "numerical = [var for var in datae.columns if datae[var].dtype != 'O']\n",
    "print('the no of numericals', len(numerical))"
   ]
  },
  {
   "cell_type": "code",
   "execution_count": 11,
   "metadata": {},
   "outputs": [
    {
     "data": {
      "text/plain": [
       "<Figure size 432x288 with 0 Axes>"
      ]
     },
     "execution_count": 11,
     "metadata": {},
     "output_type": "execute_result"
    },
    {
     "data": {
      "text/plain": [
       "<AxesSubplot:ylabel='X'>"
      ]
     },
     "execution_count": 11,
     "metadata": {},
     "output_type": "execute_result"
    },
    {
     "data": {
      "text/plain": [
       "<Figure size 432x288 with 0 Axes>"
      ]
     },
     "execution_count": 11,
     "metadata": {},
     "output_type": "execute_result"
    },
    {
     "data": {
      "text/plain": [
       "<AxesSubplot:ylabel='Y'>"
      ]
     },
     "execution_count": 11,
     "metadata": {},
     "output_type": "execute_result"
    },
    {
     "data": {
      "text/plain": [
       "<Figure size 432x288 with 0 Axes>"
      ]
     },
     "execution_count": 11,
     "metadata": {},
     "output_type": "execute_result"
    },
    {
     "data": {
      "text/plain": [
       "<AxesSubplot:ylabel='FFMC'>"
      ]
     },
     "execution_count": 11,
     "metadata": {},
     "output_type": "execute_result"
    },
    {
     "data": {
      "text/plain": [
       "<Figure size 432x288 with 0 Axes>"
      ]
     },
     "execution_count": 11,
     "metadata": {},
     "output_type": "execute_result"
    },
    {
     "data": {
      "text/plain": [
       "<AxesSubplot:ylabel='DMC'>"
      ]
     },
     "execution_count": 11,
     "metadata": {},
     "output_type": "execute_result"
    },
    {
     "data": {
      "text/plain": [
       "<Figure size 432x288 with 0 Axes>"
      ]
     },
     "execution_count": 11,
     "metadata": {},
     "output_type": "execute_result"
    },
    {
     "data": {
      "text/plain": [
       "<AxesSubplot:ylabel='DC'>"
      ]
     },
     "execution_count": 11,
     "metadata": {},
     "output_type": "execute_result"
    },
    {
     "data": {
      "text/plain": [
       "<Figure size 432x288 with 0 Axes>"
      ]
     },
     "execution_count": 11,
     "metadata": {},
     "output_type": "execute_result"
    },
    {
     "data": {
      "text/plain": [
       "<AxesSubplot:ylabel='ISI'>"
      ]
     },
     "execution_count": 11,
     "metadata": {},
     "output_type": "execute_result"
    },
    {
     "data": {
      "text/plain": [
       "<Figure size 432x288 with 0 Axes>"
      ]
     },
     "execution_count": 11,
     "metadata": {},
     "output_type": "execute_result"
    },
    {
     "data": {
      "text/plain": [
       "<AxesSubplot:ylabel='temp'>"
      ]
     },
     "execution_count": 11,
     "metadata": {},
     "output_type": "execute_result"
    },
    {
     "data": {
      "text/plain": [
       "<Figure size 432x288 with 0 Axes>"
      ]
     },
     "execution_count": 11,
     "metadata": {},
     "output_type": "execute_result"
    },
    {
     "data": {
      "text/plain": [
       "<AxesSubplot:ylabel='RH'>"
      ]
     },
     "execution_count": 11,
     "metadata": {},
     "output_type": "execute_result"
    },
    {
     "data": {
      "text/plain": [
       "<Figure size 432x288 with 0 Axes>"
      ]
     },
     "execution_count": 11,
     "metadata": {},
     "output_type": "execute_result"
    },
    {
     "data": {
      "text/plain": [
       "<AxesSubplot:ylabel='wind'>"
      ]
     },
     "execution_count": 11,
     "metadata": {},
     "output_type": "execute_result"
    },
    {
     "data": {
      "text/plain": [
       "<Figure size 432x288 with 0 Axes>"
      ]
     },
     "execution_count": 11,
     "metadata": {},
     "output_type": "execute_result"
    },
    {
     "data": {
      "text/plain": [
       "<AxesSubplot:ylabel='rain'>"
      ]
     },
     "execution_count": 11,
     "metadata": {},
     "output_type": "execute_result"
    },
    {
     "data": {
      "text/plain": [
       "<Figure size 432x288 with 0 Axes>"
      ]
     },
     "execution_count": 11,
     "metadata": {},
     "output_type": "execute_result"
    },
    {
     "data": {
      "text/plain": [
       "<AxesSubplot:ylabel='area'>"
      ]
     },
     "execution_count": 11,
     "metadata": {},
     "output_type": "execute_result"
    },
    {
     "data": {
      "image/png": "[encoded data removed]",
      "text/plain": [
       "<Figure size 432x288 with 1 Axes>"
      ]
     },
     "metadata": {
      "needs_background": "light"
     },
     "output_type": "display_data"
    },
    {
     "data": {
      "image/png": "[encoded data removed]",
      "text/plain": [
       "<Figure size 432x288 with 1 Axes>"
      ]
     },
     "metadata": {
      "needs_background": "light"
     },
     "output_type": "display_data"
    },
    {
     "data": {
      "image/png": "[encoded data removed]",
      "text/plain": [
       "<Figure size 432x288 with 1 Axes>"
      ]
     },
     "metadata": {
      "needs_background": "light"
     },
     "output_type": "display_data"
    },
    {
     "data": {
      "image/png": "[encoded data removed]",
      "text/plain": [
       "<Figure size 432x288 with 1 Axes>"
      ]
     },
     "metadata": {
      "needs_background": "light"
     },
     "output_type": "display_data"
    },
    {
     "data": {
      "image/png": "[encoded data removed]",
      "text/plain": [
       "<Figure size 432x288 with 1 Axes>"
      ]
     },
     "metadata": {
      "needs_background": "light"
     },
     "output_type": "display_data"
    },
    {
     "data": {
      "image/png": "[encoded data removed]",
      "text/plain": [
       "<Figure size 432x288 with 1 Axes>"
      ]
     },
     "metadata": {
      "needs_background": "light"
     },
     "output_type": "display_data"
    },
    {
     "data": {
      "image/png": "[encoded data removed]",
      "text/plain": [
       "<Figure size 432x288 with 1 Axes>"
      ]
     },
     "metadata": {
      "needs_background": "light"
     },
     "output_type": "display_data"
    },
    {
     "data": {
      "image/png": "[encoded data removed]",
      "text/plain": [
       "<Figure size 432x288 with 1 Axes>"
      ]
     },
     "metadata": {
      "needs_background": "light"
     },
     "output_type": "display_data"
    },
    {
     "data": {
      "image/png": "[encoded data removed]",
      "text/plain": [
       "<Figure size 432x288 with 1 Axes>"
      ]
     },
     "metadata": {
      "needs_background": "light"
     },
     "output_type": "display_data"
    },
    {
     "data": {
      "image/png": "[encoded data removed]",
      "text/plain": [
       "<Figure size 432x288 with 1 Axes>"
      ]
     },
     "metadata": {
      "needs_background": "light"
     },
     "output_type": "display_data"
    },
    {
     "data": {
      "image/png": "[encoded data removed]",
      "text/plain": [
       "<Figure size 432x288 with 1 Axes>"
      ]
     },
     "metadata": {
      "needs_background": "light"
     },
     "output_type": "display_data"
    }
   ],
   "source": [
    "df1 = datae.select_dtypes([np.int64, np.float64])\n",
    "for i, col in enumerate(df1.columns):\n",
    "    plt.figure(i)\n",
    "    sns.boxplot(y = col, data = df1)"
   ]
  },
  {
   "cell_type": "markdown",
   "metadata": {},
   "source": [
    "Outliers seen in area, rain, Isi, ffmc, y "
   ]
  },
  {
   "cell_type": "code",
   "execution_count": 12,
   "metadata": {},
   "outputs": [
    {
     "data": {
      "text/plain": [
       "<Figure size 432x288 with 0 Axes>"
      ]
     },
     "execution_count": 12,
     "metadata": {},
     "output_type": "execute_result"
    },
    {
     "data": {
      "text/plain": [
       "<AxesSubplot:xlabel='month', ylabel='count'>"
      ]
     },
     "execution_count": 12,
     "metadata": {},
     "output_type": "execute_result"
    },
    {
     "data": {
      "image/png": "[encoded data removed]",
      "text/plain": [
       "<Figure size 1440x720 with 1 Axes>"
      ]
     },
     "execution_count": 12,
     "metadata": {},
     "output_type": "execute_result"
    },
    {
     "data": {
      "text/plain": [
       "<AxesSubplot:xlabel='day', ylabel='count'>"
      ]
     },
     "execution_count": 12,
     "metadata": {},
     "output_type": "execute_result"
    },
    {
     "data": {
      "text/plain": [
       "<Figure size 432x288 with 0 Axes>"
      ]
     },
     "metadata": {},
     "output_type": "display_data"
    },
    {
     "data": {
      "image/png": "[encoded data removed]",
      "text/plain": [
       "<Figure size 1440x720 with 1 Axes>"
      ]
     },
     "metadata": {
      "needs_background": "light"
     },
     "output_type": "display_data"
    },
    {
     "data": {
      "image/png": "[encoded data removed]",
      "text/plain": [
       "<Figure size 1440x720 with 1 Axes>"
      ]
     },
     "metadata": {
      "needs_background": "light"
     },
     "output_type": "display_data"
    }
   ],
   "source": [
    "df2 = datae.select_dtypes([np.object])\n",
    "for i, col in enumerate(df2.columns):\n",
    "    plt.figure(i)\n",
    "    fig_dims = (20, 10)\n",
    "    fig, ax = plt.subplots(figsize=fig_dims)\n",
    "    sns.countplot(x = col, data = df2, ax = ax)"
   ]
  },
  {
   "cell_type": "code",
   "execution_count": 13,
   "metadata": {},
   "outputs": [
    {
     "name": "stdout",
     "output_type": "stream",
     "text": [
      "X\n",
      "-------------------------\n",
      "4    0.176015\n",
      "6    0.166344\n",
      "2    0.141199\n",
      "8    0.117988\n",
      "7    0.116054\n",
      "3    0.106383\n",
      "1    0.092843\n",
      "5    0.058027\n",
      "9    0.025145\n",
      "Name: X, dtype: float64\n",
      "\n",
      "Y\n",
      "-------------------------\n",
      "4    0.392650\n",
      "5    0.241779\n",
      "6    0.143133\n",
      "3    0.123791\n",
      "2    0.085106\n",
      "9    0.011605\n",
      "8    0.001934\n",
      "Name: Y, dtype: float64\n",
      "\n",
      "month\n",
      "-------------------------\n",
      "aug    0.355899\n",
      "sep    0.332689\n",
      "mar    0.104449\n",
      "jul    0.061896\n",
      "feb    0.038685\n",
      "jun    0.032882\n",
      "oct    0.029014\n",
      "apr    0.017408\n",
      "dec    0.017408\n",
      "may    0.003868\n",
      "jan    0.003868\n",
      "nov    0.001934\n",
      "Name: month, dtype: float64\n",
      "\n",
      "day\n",
      "-------------------------\n",
      "sun    0.183752\n",
      "fri    0.164410\n",
      "sat    0.162476\n",
      "mon    0.143133\n",
      "tue    0.123791\n",
      "thu    0.117988\n",
      "wed    0.104449\n",
      "Name: day, dtype: float64\n",
      "\n",
      "FFMC\n",
      "-------------------------\n",
      "91.6    0.054159\n",
      "92.1    0.054159\n",
      "91.0    0.042553\n",
      "91.7    0.036750\n",
      "93.7    0.030948\n",
      "          ...   \n",
      "50.4    0.001934\n",
      "82.1    0.001934\n",
      "86.3    0.001934\n",
      "85.1    0.001934\n",
      "87.1    0.001934\n",
      "Name: FFMC, Length: 106, dtype: float64\n",
      "\n",
      "DMC\n",
      "-------------------------\n",
      "99.0     0.019342\n",
      "129.5    0.017408\n",
      "142.4    0.015474\n",
      "231.1    0.015474\n",
      "137.0    0.013540\n",
      "           ...   \n",
      "4.6      0.001934\n",
      "24.9     0.001934\n",
      "133.6    0.001934\n",
      "96.3     0.001934\n",
      "3.2      0.001934\n",
      "Name: DMC, Length: 215, dtype: float64\n",
      "\n",
      "DC\n",
      "-------------------------\n",
      "745.3    0.019342\n",
      "692.6    0.017408\n",
      "698.6    0.015474\n",
      "601.4    0.015474\n",
      "692.3    0.015474\n",
      "           ...   \n",
      "730.6    0.001934\n",
      "431.6    0.001934\n",
      "74.3     0.001934\n",
      "313.4    0.001934\n",
      "537.4    0.001934\n",
      "Name: DC, Length: 219, dtype: float64\n",
      "\n",
      "ISI\n",
      "-------------------------\n",
      "9.6     0.044487\n",
      "7.1     0.040619\n",
      "6.3     0.038685\n",
      "7.0     0.032882\n",
      "8.4     0.032882\n",
      "          ...   \n",
      "7.3     0.001934\n",
      "12.1    0.001934\n",
      "14.6    0.001934\n",
      "56.1    0.001934\n",
      "22.7    0.001934\n",
      "Name: ISI, Length: 119, dtype: float64\n",
      "\n",
      "temp\n",
      "-------------------------\n",
      "17.4    0.015474\n",
      "19.6    0.015474\n",
      "15.4    0.013540\n",
      "20.6    0.013540\n",
      "23.4    0.011605\n",
      "          ...   \n",
      "29.6    0.001934\n",
      "8.7     0.001934\n",
      "25.7    0.001934\n",
      "31.0    0.001934\n",
      "4.8     0.001934\n",
      "Name: temp, Length: 192, dtype: float64\n",
      "\n",
      "RH\n",
      "-------------------------\n",
      "27     0.063830\n",
      "39     0.046422\n",
      "35     0.038685\n",
      "43     0.032882\n",
      "42     0.032882\n",
      "         ...   \n",
      "84     0.001934\n",
      "80     0.001934\n",
      "76     0.001934\n",
      "69     0.001934\n",
      "100    0.001934\n",
      "Name: RH, Length: 75, dtype: float64\n",
      "\n",
      "wind\n",
      "-------------------------\n",
      "2.2    0.102515\n",
      "3.1    0.102515\n",
      "4.0    0.098646\n",
      "4.9    0.092843\n",
      "2.7    0.085106\n",
      "4.5    0.079304\n",
      "5.4    0.079304\n",
      "3.6    0.077369\n",
      "1.8    0.059961\n",
      "5.8    0.046422\n",
      "6.3    0.036750\n",
      "7.6    0.027079\n",
      "1.3    0.027079\n",
      "0.9    0.025145\n",
      "6.7    0.015474\n",
      "8.5    0.015474\n",
      "8.0    0.009671\n",
      "7.2    0.007737\n",
      "9.4    0.007737\n",
      "8.9    0.001934\n",
      "0.4    0.001934\n",
      "Name: wind, dtype: float64\n",
      "\n",
      "rain\n",
      "-------------------------\n",
      "0.0    0.984526\n",
      "0.8    0.003868\n",
      "0.2    0.003868\n",
      "0.4    0.001934\n",
      "6.4    0.001934\n",
      "1.4    0.001934\n",
      "1.0    0.001934\n",
      "Name: rain, dtype: float64\n",
      "\n",
      "area\n",
      "-------------------------\n",
      "0.000000    0.477756\n",
      "1.141722    0.005803\n",
      "1.450916    0.003868\n",
      "1.142897    0.003868\n",
      "1.299795    0.003868\n",
      "              ...   \n",
      "1.524704    0.001934\n",
      "2.298114    0.001934\n",
      "1.261125    0.001934\n",
      "1.622383    0.001934\n",
      "2.046306    0.001934\n",
      "Name: area, Length: 251, dtype: float64\n",
      "\n"
     ]
    }
   ],
   "source": [
    "for col in datae.columns:\n",
    "    print(col)\n",
    "    print('-------------------------')\n",
    "    print(datae[col].value_counts()/np.float(len(datae)))\n",
    "    print()"
   ]
  },
  {
   "cell_type": "code",
   "execution_count": 14,
   "metadata": {},
   "outputs": [
    {
     "data": {
      "text/plain": [
       "<Figure size 432x288 with 0 Axes>"
      ]
     },
     "execution_count": 14,
     "metadata": {},
     "output_type": "execute_result"
    },
    {
     "data": {
      "text/plain": [
       "<AxesSubplot:xlabel='X'>"
      ]
     },
     "execution_count": 14,
     "metadata": {},
     "output_type": "execute_result"
    },
    {
     "data": {
      "text/plain": [
       "<Figure size 432x288 with 0 Axes>"
      ]
     },
     "execution_count": 14,
     "metadata": {},
     "output_type": "execute_result"
    },
    {
     "data": {
      "text/plain": [
       "<AxesSubplot:xlabel='Y'>"
      ]
     },
     "execution_count": 14,
     "metadata": {},
     "output_type": "execute_result"
    },
    {
     "data": {
      "text/plain": [
       "<Figure size 432x288 with 0 Axes>"
      ]
     },
     "execution_count": 14,
     "metadata": {},
     "output_type": "execute_result"
    },
    {
     "data": {
      "text/plain": [
       "<AxesSubplot:xlabel='month'>"
      ]
     },
     "execution_count": 14,
     "metadata": {},
     "output_type": "execute_result"
    },
    {
     "data": {
      "text/plain": [
       "<Figure size 432x288 with 0 Axes>"
      ]
     },
     "execution_count": 14,
     "metadata": {},
     "output_type": "execute_result"
    },
    {
     "data": {
      "text/plain": [
       "<AxesSubplot:xlabel='day'>"
      ]
     },
     "execution_count": 14,
     "metadata": {},
     "output_type": "execute_result"
    },
    {
     "data": {
      "text/plain": [
       "<Figure size 432x288 with 0 Axes>"
      ]
     },
     "execution_count": 14,
     "metadata": {},
     "output_type": "execute_result"
    },
    {
     "data": {
      "text/plain": [
       "<AxesSubplot:xlabel='FFMC'>"
      ]
     },
     "execution_count": 14,
     "metadata": {},
     "output_type": "execute_result"
    },
    {
     "data": {
      "text/plain": [
       "<Figure size 432x288 with 0 Axes>"
      ]
     },
     "execution_count": 14,
     "metadata": {},
     "output_type": "execute_result"
    },
    {
     "data": {
      "text/plain": [
       "<AxesSubplot:xlabel='DMC'>"
      ]
     },
     "execution_count": 14,
     "metadata": {},
     "output_type": "execute_result"
    },
    {
     "data": {
      "text/plain": [
       "<Figure size 432x288 with 0 Axes>"
      ]
     },
     "execution_count": 14,
     "metadata": {},
     "output_type": "execute_result"
    },
    {
     "data": {
      "text/plain": [
       "<AxesSubplot:xlabel='DC'>"
      ]
     },
     "execution_count": 14,
     "metadata": {},
     "output_type": "execute_result"
    },
    {
     "data": {
      "text/plain": [
       "<Figure size 432x288 with 0 Axes>"
      ]
     },
     "execution_count": 14,
     "metadata": {},
     "output_type": "execute_result"
    },
    {
     "data": {
      "text/plain": [
       "<AxesSubplot:xlabel='ISI'>"
      ]
     },
     "execution_count": 14,
     "metadata": {},
     "output_type": "execute_result"
    },
    {
     "data": {
      "text/plain": [
       "<Figure size 432x288 with 0 Axes>"
      ]
     },
     "execution_count": 14,
     "metadata": {},
     "output_type": "execute_result"
    },
    {
     "data": {
      "text/plain": [
       "<AxesSubplot:xlabel='temp'>"
      ]
     },
     "execution_count": 14,
     "metadata": {},
     "output_type": "execute_result"
    },
    {
     "data": {
      "text/plain": [
       "<Figure size 432x288 with 0 Axes>"
      ]
     },
     "execution_count": 14,
     "metadata": {},
     "output_type": "execute_result"
    },
    {
     "data": {
      "text/plain": [
       "<AxesSubplot:xlabel='RH'>"
      ]
     },
     "execution_count": 14,
     "metadata": {},
     "output_type": "execute_result"
    },
    {
     "data": {
      "text/plain": [
       "<Figure size 432x288 with 0 Axes>"
      ]
     },
     "execution_count": 14,
     "metadata": {},
     "output_type": "execute_result"
    },
    {
     "data": {
      "text/plain": [
       "<AxesSubplot:xlabel='wind'>"
      ]
     },
     "execution_count": 14,
     "metadata": {},
     "output_type": "execute_result"
    },
    {
     "data": {
      "text/plain": [
       "<Figure size 432x288 with 0 Axes>"
      ]
     },
     "execution_count": 14,
     "metadata": {},
     "output_type": "execute_result"
    },
    {
     "data": {
      "text/plain": [
       "<AxesSubplot:xlabel='rain'>"
      ]
     },
     "execution_count": 14,
     "metadata": {},
     "output_type": "execute_result"
    },
    {
     "data": {
      "text/plain": [
       "<Figure size 432x288 with 0 Axes>"
      ]
     },
     "execution_count": 14,
     "metadata": {},
     "output_type": "execute_result"
    },
    {
     "data": {
      "text/plain": [
       "<AxesSubplot:xlabel='area'>"
      ]
     },
     "execution_count": 14,
     "metadata": {},
     "output_type": "execute_result"
    },
    {
     "data": {
      "image/png": "[encoded data removed]",
      "text/plain": [
       "<Figure size 432x288 with 1 Axes>"
      ]
     },
     "metadata": {
      "needs_background": "light"
     },
     "output_type": "display_data"
    },
    {
     "data": {
      "image/png": "[encoded data removed]",
      "text/plain": [
       "<Figure size 432x288 with 1 Axes>"
      ]
     },
     "metadata": {
      "needs_background": "light"
     },
     "output_type": "display_data"
    },
    {
     "data": {
      "image/png": "[encoded data removed]",
      "text/plain": [
       "<Figure size 432x288 with 1 Axes>"
      ]
     },
     "metadata": {
      "needs_background": "light"
     },
     "output_type": "display_data"
    },
    {
     "data": {
      "image/png": "[encoded data removed]",
      "text/plain": [
       "<Figure size 432x288 with 1 Axes>"
      ]
     },
     "metadata": {
      "needs_background": "light"
     },
     "output_type": "display_data"
    },
    {
     "data": {
      "image/png": "[encoded data removed]",
      "text/plain": [
       "<Figure size 432x288 with 1 Axes>"
      ]
     },
     "metadata": {
      "needs_background": "light"
     },
     "output_type": "display_data"
    },
    {
     "data": {
      "image/png": "[encoded data removed]",
      "text/plain": [
       "<Figure size 432x288 with 1 Axes>"
      ]
     },
     "metadata": {
      "needs_background": "light"
     },
     "output_type": "display_data"
    },
    {
     "data": {
      "image/png": "[encoded data removed]",
      "text/plain": [
       "<Figure size 432x288 with 1 Axes>"
      ]
     },
     "metadata": {
      "needs_background": "light"
     },
     "output_type": "display_data"
    },
    {
     "data": {
      "image/png": "[encoded data removed]",
      "text/plain": [
       "<Figure size 432x288 with 1 Axes>"
      ]
     },
     "metadata": {
      "needs_background": "light"
     },
     "output_type": "display_data"
    },
    {
     "data": {
      "image/png": "[encoded data removed]",
      "text/plain": [
       "<Figure size 432x288 with 1 Axes>"
      ]
     },
     "metadata": {
      "needs_background": "light"
     },
     "output_type": "display_data"
    },
    {
     "data": {
      "image/png": "[encoded data removed]",
      "text/plain": [
       "<Figure size 432x288 with 1 Axes>"
      ]
     },
     "metadata": {
      "needs_background": "light"
     },
     "output_type": "display_data"
    },
    {
     "data": {
      "image/png": "[encoded data removed]",
      "text/plain": [
       "<Figure size 432x288 with 1 Axes>"
      ]
     },
     "metadata": {
      "needs_background": "light"
     },
     "output_type": "display_data"
    },
    {
     "data": {
      "image/png": "[encoded data removed]",
      "text/plain": [
       "<Figure size 432x288 with 1 Axes>"
      ]
     },
     "metadata": {
      "needs_background": "light"
     },
     "output_type": "display_data"
    },
    {
     "data": {
      "image/png": "[encoded data removed]",
      "text/plain": [
       "<Figure size 432x288 with 1 Axes>"
      ]
     },
     "metadata": {
      "needs_background": "light"
     },
     "output_type": "display_data"
    }
   ],
   "source": [
    "for i, col in enumerate(datae.columns):\n",
    "    plt.figure(i)\n",
    "    datae.groupby([col])['area'].mean().plot()"
   ]
  },
  {
   "cell_type": "code",
   "execution_count": 15,
   "metadata": {},
   "outputs": [],
   "source": [
    "#report = sz.analyze([datae, \"Data\"], target_feat = 'area')"
   ]
  },
  {
   "cell_type": "code",
   "execution_count": 16,
   "metadata": {},
   "outputs": [],
   "source": [
    "#report.show_html('forestfire.html')"
   ]
  },
  {
   "cell_type": "markdown",
   "metadata": {},
   "source": [
    "## Train test split"
   ]
  },
  {
   "cell_type": "code",
   "execution_count": 17,
   "metadata": {},
   "outputs": [],
   "source": [
    "from sklearn.model_selection import train_test_split"
   ]
  },
  {
   "cell_type": "code",
   "execution_count": 18,
   "metadata": {},
   "outputs": [],
   "source": [
    "xtrain, xtest, ytrain, ytest = train_test_split(datae, datae.area,test_size=0.25, random_state = 123)"
   ]
  },
  {
   "cell_type": "code",
   "execution_count": 19,
   "metadata": {},
   "outputs": [
    {
     "data": {
      "text/plain": [
       "((387, 13), (130, 13), (387,), (130,))"
      ]
     },
     "execution_count": 19,
     "metadata": {},
     "output_type": "execute_result"
    }
   ],
   "source": [
    "xtrain.shape, xtest.shape, ytrain.shape, ytest.shape"
   ]
  },
  {
   "cell_type": "markdown",
   "metadata": {},
   "source": [
    "## Feature Engineering"
   ]
  },
  {
   "cell_type": "markdown",
   "metadata": {},
   "source": [
    "### Missing values"
   ]
  },
  {
   "cell_type": "markdown",
   "metadata": {},
   "source": [
    "There are no missing values in the data"
   ]
  },
  {
   "cell_type": "markdown",
   "metadata": {},
   "source": [
    "### Outliers and Skewness"
   ]
  },
  {
   "cell_type": "markdown",
   "metadata": {},
   "source": [
    "For ffmc"
   ]
  },
  {
   "cell_type": "code",
   "execution_count": 20,
   "metadata": {},
   "outputs": [
    {
     "data": {
      "text/plain": [
       "84.69999999999999"
      ]
     },
     "execution_count": 20,
     "metadata": {},
     "output_type": "execute_result"
    }
   ],
   "source": [
    "IQR = datae.FFMC.quantile(0.75) - datae.FFMC.quantile(0.25)\n",
    "\n",
    "Lower_fence = xtrain.FFMC.quantile(0.75) - (IQR * 3)\n",
    "\n",
    "Lower_fence"
   ]
  },
  {
   "cell_type": "code",
   "execution_count": 21,
   "metadata": {},
   "outputs": [
    {
     "name": "stdout",
     "output_type": "stream",
     "text": [
      "lower fence: 26\n",
      "percentage of outliers: 0.06718346253229975\n"
     ]
    }
   ],
   "source": [
    "#percentage of outliers\n",
    "print('lower fence: {}'.format(xtrain[xtrain.FFMC<84.69].shape[0]))\n",
    "print('percentage of outliers: {}'.format(xtrain[xtrain.FFMC<84.69].shape[0]/np.float(xtrain.shape[0])))"
   ]
  },
  {
   "cell_type": "code",
   "execution_count": 22,
   "metadata": {},
   "outputs": [
    {
     "name": "stderr",
     "output_type": "stream",
     "text": [
      "c:\\users\\gokul\\appdata\\local\\programs\\python\\python38\\lib\\site-packages\\pandas\\core\\indexing.py:1763: SettingWithCopyWarning: \n",
      "A value is trying to be set on a copy of a slice from a DataFrame.\n",
      "Try using .loc[row_indexer,col_indexer] = value instead\n",
      "\n",
      "See the caveats in the documentation: https://pandas.pydata.org/pandas-docs/stable/user_guide/indexing.html#returning-a-view-versus-a-copy\n",
      "  isetter(loc, value)\n",
      "c:\\users\\gokul\\appdata\\local\\programs\\python\\python38\\lib\\site-packages\\pandas\\core\\indexing.py:1763: SettingWithCopyWarning: \n",
      "A value is trying to be set on a copy of a slice from a DataFrame.\n",
      "Try using .loc[row_indexer,col_indexer] = value instead\n",
      "\n",
      "See the caveats in the documentation: https://pandas.pydata.org/pandas-docs/stable/user_guide/indexing.html#returning-a-view-versus-a-copy\n",
      "  isetter(loc, value)\n"
     ]
    },
    {
     "data": {
      "text/plain": [
       "(85.0, 85.0)"
      ]
     },
     "execution_count": 22,
     "metadata": {},
     "output_type": "execute_result"
    }
   ],
   "source": [
    "# bottom-coding: capping the variable \n",
    "xtrain.loc[xtrain.FFMC<=85, 'FFMC'] = 85\n",
    "xtest.loc[xtest.FFMC<=85, 'FFMC'] = 85\n",
    "xtrain.FFMC.min(), xtest.FFMC.min()"
   ]
  },
  {
   "cell_type": "code",
   "execution_count": 23,
   "metadata": {},
   "outputs": [
    {
     "name": "stdout",
     "output_type": "stream",
     "text": [
      "[1, 2, 3, 4, 5, 6, 7, 8, 9, 10]\n"
     ]
    },
    {
     "name": "stderr",
     "output_type": "stream",
     "text": [
      "<ipython-input-23-1fe4d704f198>:12: SettingWithCopyWarning: \n",
      "A value is trying to be set on a copy of a slice from a DataFrame.\n",
      "Try using .loc[row_indexer,col_indexer] = value instead\n",
      "\n",
      "See the caveats in the documentation: https://pandas.pydata.org/pandas-docs/stable/user_guide/indexing.html#returning-a-view-versus-a-copy\n",
      "  xtrain['FFMC_q'], bins = pd.qcut(x=xtrain.FFMC, q=10, retbins=True, precision=3, duplicates='raise')\n"
     ]
    },
    {
     "data": {
      "text/html": [
       "<div>\n",
       "<style scoped>\n",
       "    .dataframe tbody tr th:only-of-type {\n",
       "        vertical-align: middle;\n",
       "    }\n",
       "\n",
       "    .dataframe tbody tr th {\n",
       "        vertical-align: top;\n",
       "    }\n",
       "\n",
       "    .dataframe thead th {\n",
       "        text-align: right;\n",
       "    }\n",
       "</style>\n",
       "<table border=\"1\" class=\"dataframe\">\n",
       "  <thead>\n",
       "    <tr style=\"text-align: right;\">\n",
       "      <th></th>\n",
       "      <th>X</th>\n",
       "      <th>Y</th>\n",
       "      <th>month</th>\n",
       "      <th>day</th>\n",
       "      <th>FFMC</th>\n",
       "      <th>DMC</th>\n",
       "      <th>DC</th>\n",
       "      <th>ISI</th>\n",
       "      <th>temp</th>\n",
       "      <th>RH</th>\n",
       "      <th>wind</th>\n",
       "      <th>rain</th>\n",
       "      <th>area</th>\n",
       "      <th>FFMC_q</th>\n",
       "    </tr>\n",
       "  </thead>\n",
       "  <tbody>\n",
       "    <tr>\n",
       "      <th>442</th>\n",
       "      <td>6</td>\n",
       "      <td>5</td>\n",
       "      <td>apr</td>\n",
       "      <td>mon</td>\n",
       "      <td>87.9</td>\n",
       "      <td>24.9</td>\n",
       "      <td>41.6</td>\n",
       "      <td>3.7</td>\n",
       "      <td>10.9</td>\n",
       "      <td>64</td>\n",
       "      <td>3.1</td>\n",
       "      <td>0.0</td>\n",
       "      <td>1.273529</td>\n",
       "      <td>(85.7, 89.7]</td>\n",
       "    </tr>\n",
       "    <tr>\n",
       "      <th>202</th>\n",
       "      <td>7</td>\n",
       "      <td>4</td>\n",
       "      <td>feb</td>\n",
       "      <td>sun</td>\n",
       "      <td>85.0</td>\n",
       "      <td>8.7</td>\n",
       "      <td>32.1</td>\n",
       "      <td>2.1</td>\n",
       "      <td>8.8</td>\n",
       "      <td>68</td>\n",
       "      <td>2.2</td>\n",
       "      <td>0.0</td>\n",
       "      <td>1.671561</td>\n",
       "      <td>(84.999, 85.7]</td>\n",
       "    </tr>\n",
       "    <tr>\n",
       "      <th>276</th>\n",
       "      <td>4</td>\n",
       "      <td>4</td>\n",
       "      <td>dec</td>\n",
       "      <td>mon</td>\n",
       "      <td>85.4</td>\n",
       "      <td>25.4</td>\n",
       "      <td>349.7</td>\n",
       "      <td>2.6</td>\n",
       "      <td>4.6</td>\n",
       "      <td>21</td>\n",
       "      <td>8.5</td>\n",
       "      <td>0.0</td>\n",
       "      <td>1.779622</td>\n",
       "      <td>(84.999, 85.7]</td>\n",
       "    </tr>\n",
       "    <tr>\n",
       "      <th>120</th>\n",
       "      <td>3</td>\n",
       "      <td>4</td>\n",
       "      <td>aug</td>\n",
       "      <td>mon</td>\n",
       "      <td>91.5</td>\n",
       "      <td>145.4</td>\n",
       "      <td>608.2</td>\n",
       "      <td>10.7</td>\n",
       "      <td>10.3</td>\n",
       "      <td>74</td>\n",
       "      <td>2.2</td>\n",
       "      <td>0.0</td>\n",
       "      <td>0.000000</td>\n",
       "      <td>(91.2, 91.6]</td>\n",
       "    </tr>\n",
       "    <tr>\n",
       "      <th>150</th>\n",
       "      <td>6</td>\n",
       "      <td>5</td>\n",
       "      <td>jun</td>\n",
       "      <td>fri</td>\n",
       "      <td>92.5</td>\n",
       "      <td>56.4</td>\n",
       "      <td>433.3</td>\n",
       "      <td>7.1</td>\n",
       "      <td>23.2</td>\n",
       "      <td>39</td>\n",
       "      <td>5.4</td>\n",
       "      <td>0.0</td>\n",
       "      <td>1.035403</td>\n",
       "      <td>(92.1, 92.5]</td>\n",
       "    </tr>\n",
       "    <tr>\n",
       "      <th>178</th>\n",
       "      <td>2</td>\n",
       "      <td>5</td>\n",
       "      <td>sep</td>\n",
       "      <td>wed</td>\n",
       "      <td>90.1</td>\n",
       "      <td>82.9</td>\n",
       "      <td>735.7</td>\n",
       "      <td>6.2</td>\n",
       "      <td>18.3</td>\n",
       "      <td>45</td>\n",
       "      <td>2.2</td>\n",
       "      <td>0.0</td>\n",
       "      <td>1.373042</td>\n",
       "      <td>(89.7, 90.7]</td>\n",
       "    </tr>\n",
       "    <tr>\n",
       "      <th>142</th>\n",
       "      <td>8</td>\n",
       "      <td>6</td>\n",
       "      <td>aug</td>\n",
       "      <td>fri</td>\n",
       "      <td>90.1</td>\n",
       "      <td>108.0</td>\n",
       "      <td>529.8</td>\n",
       "      <td>12.5</td>\n",
       "      <td>21.2</td>\n",
       "      <td>51</td>\n",
       "      <td>8.9</td>\n",
       "      <td>0.0</td>\n",
       "      <td>0.905870</td>\n",
       "      <td>(89.7, 90.7]</td>\n",
       "    </tr>\n",
       "    <tr>\n",
       "      <th>363</th>\n",
       "      <td>4</td>\n",
       "      <td>3</td>\n",
       "      <td>sep</td>\n",
       "      <td>tue</td>\n",
       "      <td>91.9</td>\n",
       "      <td>111.7</td>\n",
       "      <td>770.3</td>\n",
       "      <td>6.5</td>\n",
       "      <td>15.9</td>\n",
       "      <td>53</td>\n",
       "      <td>2.2</td>\n",
       "      <td>0.0</td>\n",
       "      <td>1.239862</td>\n",
       "      <td>(91.6, 92.1]</td>\n",
       "    </tr>\n",
       "    <tr>\n",
       "      <th>439</th>\n",
       "      <td>1</td>\n",
       "      <td>3</td>\n",
       "      <td>sep</td>\n",
       "      <td>fri</td>\n",
       "      <td>91.1</td>\n",
       "      <td>91.3</td>\n",
       "      <td>738.1</td>\n",
       "      <td>7.2</td>\n",
       "      <td>19.1</td>\n",
       "      <td>46</td>\n",
       "      <td>2.2</td>\n",
       "      <td>0.0</td>\n",
       "      <td>0.801130</td>\n",
       "      <td>(90.7, 91.2]</td>\n",
       "    </tr>\n",
       "    <tr>\n",
       "      <th>469</th>\n",
       "      <td>6</td>\n",
       "      <td>3</td>\n",
       "      <td>apr</td>\n",
       "      <td>sun</td>\n",
       "      <td>91.0</td>\n",
       "      <td>14.6</td>\n",
       "      <td>25.6</td>\n",
       "      <td>12.3</td>\n",
       "      <td>13.7</td>\n",
       "      <td>33</td>\n",
       "      <td>9.4</td>\n",
       "      <td>0.0</td>\n",
       "      <td>2.276412</td>\n",
       "      <td>(90.7, 91.2]</td>\n",
       "    </tr>\n",
       "  </tbody>\n",
       "</table>\n",
       "</div>"
      ],
      "text/plain": [
       "     X  Y month  day  FFMC    DMC     DC   ISI  temp  RH  wind  rain  \\\n",
       "442  6  5   apr  mon  87.9   24.9   41.6   3.7  10.9  64   3.1   0.0   \n",
       "202  7  4   feb  sun  85.0    8.7   32.1   2.1   8.8  68   2.2   0.0   \n",
       "276  4  4   dec  mon  85.4   25.4  349.7   2.6   4.6  21   8.5   0.0   \n",
       "120  3  4   aug  mon  91.5  145.4  608.2  10.7  10.3  74   2.2   0.0   \n",
       "150  6  5   jun  fri  92.5   56.4  433.3   7.1  23.2  39   5.4   0.0   \n",
       "178  2  5   sep  wed  90.1   82.9  735.7   6.2  18.3  45   2.2   0.0   \n",
       "142  8  6   aug  fri  90.1  108.0  529.8  12.5  21.2  51   8.9   0.0   \n",
       "363  4  3   sep  tue  91.9  111.7  770.3   6.5  15.9  53   2.2   0.0   \n",
       "439  1  3   sep  fri  91.1   91.3  738.1   7.2  19.1  46   2.2   0.0   \n",
       "469  6  3   apr  sun  91.0   14.6   25.6  12.3  13.7  33   9.4   0.0   \n",
       "\n",
       "         area          FFMC_q  \n",
       "442  1.273529    (85.7, 89.7]  \n",
       "202  1.671561  (84.999, 85.7]  \n",
       "276  1.779622  (84.999, 85.7]  \n",
       "120  0.000000    (91.2, 91.6]  \n",
       "150  1.035403    (92.1, 92.5]  \n",
       "178  1.373042    (89.7, 90.7]  \n",
       "142  0.905870    (89.7, 90.7]  \n",
       "363  1.239862    (91.6, 92.1]  \n",
       "439  0.801130    (90.7, 91.2]  \n",
       "469  2.276412    (90.7, 91.2]  "
      ]
     },
     "execution_count": 23,
     "metadata": {},
     "output_type": "execute_result"
    }
   ],
   "source": [
    "# and now, I will divide into 10 quantiles for the rest of the exercise. I will leave the quantile\n",
    "# boundary and generate labels as well for comparison\n",
    "\n",
    "# create 10 labels, one for each quantile\n",
    "labels = [i+1 for i in range(0,10)]\n",
    "print(labels)\n",
    "\n",
    "# bins with labels\n",
    "#xtrain['FFMC_label'], bins = pd.qcut(x=xtrain.FFMC, q=10, labels=labels, retbins=True, precision=3, duplicates='raise')\n",
    "\n",
    "# bins with boundaries\n",
    "xtrain['FFMC_q'], bins = pd.qcut(x=xtrain.FFMC, q=10, retbins=True, precision=3, duplicates='raise')\n",
    "\n",
    "\n",
    "xtrain.head(10)"
   ]
  },
  {
   "cell_type": "code",
   "execution_count": 24,
   "metadata": {},
   "outputs": [
    {
     "data": {
      "text/plain": [
       "array([85. , 85.7, 89.7, 90.7, 91.2, 91.6, 92.1, 92.5, 93.1, 94.3, 96.2])"
      ]
     },
     "execution_count": 24,
     "metadata": {},
     "output_type": "execute_result"
    }
   ],
   "source": [
    "bins"
   ]
  },
  {
   "cell_type": "code",
   "execution_count": 25,
   "metadata": {},
   "outputs": [
    {
     "name": "stderr",
     "output_type": "stream",
     "text": [
      "<ipython-input-25-e7181ef63ee7>:3: SettingWithCopyWarning: \n",
      "A value is trying to be set on a copy of a slice from a DataFrame.\n",
      "Try using .loc[row_indexer,col_indexer] = value instead\n",
      "\n",
      "See the caveats in the documentation: https://pandas.pydata.org/pandas-docs/stable/user_guide/indexing.html#returning-a-view-versus-a-copy\n",
      "  xtest['FFMC_q'] = pd.cut(x = xtest.FFMC, bins=bins)\n"
     ]
    },
    {
     "data": {
      "text/html": [
       "<div>\n",
       "<style scoped>\n",
       "    .dataframe tbody tr th:only-of-type {\n",
       "        vertical-align: middle;\n",
       "    }\n",
       "\n",
       "    .dataframe tbody tr th {\n",
       "        vertical-align: top;\n",
       "    }\n",
       "\n",
       "    .dataframe thead th {\n",
       "        text-align: right;\n",
       "    }\n",
       "</style>\n",
       "<table border=\"1\" class=\"dataframe\">\n",
       "  <thead>\n",
       "    <tr style=\"text-align: right;\">\n",
       "      <th></th>\n",
       "      <th>X</th>\n",
       "      <th>Y</th>\n",
       "      <th>month</th>\n",
       "      <th>day</th>\n",
       "      <th>FFMC</th>\n",
       "      <th>DMC</th>\n",
       "      <th>DC</th>\n",
       "      <th>ISI</th>\n",
       "      <th>temp</th>\n",
       "      <th>RH</th>\n",
       "      <th>wind</th>\n",
       "      <th>rain</th>\n",
       "      <th>area</th>\n",
       "      <th>FFMC_q</th>\n",
       "    </tr>\n",
       "  </thead>\n",
       "  <tbody>\n",
       "    <tr>\n",
       "      <th>400</th>\n",
       "      <td>9</td>\n",
       "      <td>5</td>\n",
       "      <td>jun</td>\n",
       "      <td>wed</td>\n",
       "      <td>93.3</td>\n",
       "      <td>49.5</td>\n",
       "      <td>297.7</td>\n",
       "      <td>14.0</td>\n",
       "      <td>28.0</td>\n",
       "      <td>34</td>\n",
       "      <td>4.5</td>\n",
       "      <td>0.0</td>\n",
       "      <td>1.521732</td>\n",
       "      <td>(93.1, 94.3]</td>\n",
       "    </tr>\n",
       "    <tr>\n",
       "      <th>379</th>\n",
       "      <td>4</td>\n",
       "      <td>5</td>\n",
       "      <td>jan</td>\n",
       "      <td>sun</td>\n",
       "      <td>85.0</td>\n",
       "      <td>1.1</td>\n",
       "      <td>171.4</td>\n",
       "      <td>0.0</td>\n",
       "      <td>5.2</td>\n",
       "      <td>100</td>\n",
       "      <td>0.9</td>\n",
       "      <td>0.0</td>\n",
       "      <td>0.000000</td>\n",
       "      <td>NaN</td>\n",
       "    </tr>\n",
       "    <tr>\n",
       "      <th>286</th>\n",
       "      <td>7</td>\n",
       "      <td>6</td>\n",
       "      <td>jul</td>\n",
       "      <td>wed</td>\n",
       "      <td>91.2</td>\n",
       "      <td>183.1</td>\n",
       "      <td>437.7</td>\n",
       "      <td>12.5</td>\n",
       "      <td>12.6</td>\n",
       "      <td>90</td>\n",
       "      <td>7.6</td>\n",
       "      <td>0.2</td>\n",
       "      <td>0.000000</td>\n",
       "      <td>(90.7, 91.2]</td>\n",
       "    </tr>\n",
       "    <tr>\n",
       "      <th>125</th>\n",
       "      <td>3</td>\n",
       "      <td>4</td>\n",
       "      <td>oct</td>\n",
       "      <td>sun</td>\n",
       "      <td>92.6</td>\n",
       "      <td>46.5</td>\n",
       "      <td>691.8</td>\n",
       "      <td>8.8</td>\n",
       "      <td>20.6</td>\n",
       "      <td>24</td>\n",
       "      <td>5.4</td>\n",
       "      <td>0.0</td>\n",
       "      <td>0.000000</td>\n",
       "      <td>(92.5, 93.1]</td>\n",
       "    </tr>\n",
       "    <tr>\n",
       "      <th>216</th>\n",
       "      <td>4</td>\n",
       "      <td>4</td>\n",
       "      <td>sep</td>\n",
       "      <td>sun</td>\n",
       "      <td>92.4</td>\n",
       "      <td>124.1</td>\n",
       "      <td>680.7</td>\n",
       "      <td>8.5</td>\n",
       "      <td>16.9</td>\n",
       "      <td>60</td>\n",
       "      <td>1.3</td>\n",
       "      <td>0.0</td>\n",
       "      <td>1.967458</td>\n",
       "      <td>(92.1, 92.5]</td>\n",
       "    </tr>\n",
       "  </tbody>\n",
       "</table>\n",
       "</div>"
      ],
      "text/plain": [
       "     X  Y month  day  FFMC    DMC     DC   ISI  temp   RH  wind  rain  \\\n",
       "400  9  5   jun  wed  93.3   49.5  297.7  14.0  28.0   34   4.5   0.0   \n",
       "379  4  5   jan  sun  85.0    1.1  171.4   0.0   5.2  100   0.9   0.0   \n",
       "286  7  6   jul  wed  91.2  183.1  437.7  12.5  12.6   90   7.6   0.2   \n",
       "125  3  4   oct  sun  92.6   46.5  691.8   8.8  20.6   24   5.4   0.0   \n",
       "216  4  4   sep  sun  92.4  124.1  680.7   8.5  16.9   60   1.3   0.0   \n",
       "\n",
       "         area        FFMC_q  \n",
       "400  1.521732  (93.1, 94.3]  \n",
       "379  0.000000           NaN  \n",
       "286  0.000000  (90.7, 91.2]  \n",
       "125  0.000000  (92.5, 93.1]  \n",
       "216  1.967458  (92.1, 92.5]  "
      ]
     },
     "execution_count": 25,
     "metadata": {},
     "output_type": "execute_result"
    }
   ],
   "source": [
    "# we use pandas cut method and pass the quantile edges calculated in the training set\n",
    "#xtest['FFMC_label'] = pd.cut(x =xtest.FFMC, bins=bins, labels=labels)\n",
    "xtest['FFMC_q'] = pd.cut(x = xtest.FFMC, bins=bins)\n",
    "xtest.head()"
   ]
  },
  {
   "cell_type": "code",
   "execution_count": 26,
   "metadata": {},
   "outputs": [
    {
     "data": {
      "text/plain": [
       "FFMC_q\n",
       "(85.0, 85.7]    0.007692\n",
       "(85.7, 89.7]    0.123077\n",
       "(89.7, 90.7]    0.107692\n",
       "(90.7, 91.2]    0.100000\n",
       "(91.2, 91.6]    0.092308\n",
       "(91.6, 92.1]    0.084615\n",
       "(92.1, 92.5]    0.100000\n",
       "(92.5, 93.1]    0.053846\n",
       "(93.1, 94.3]    0.138462\n",
       "(94.3, 96.2]    0.115385\n",
       "Name: FFMC, dtype: float64"
      ]
     },
     "execution_count": 26,
     "metadata": {},
     "output_type": "execute_result"
    }
   ],
   "source": [
    "xtest.groupby('FFMC_q')['FFMC'].count()/np.float(len(xtest))"
   ]
  },
  {
   "cell_type": "code",
   "execution_count": 27,
   "metadata": {},
   "outputs": [
    {
     "name": "stderr",
     "output_type": "stream",
     "text": [
      "<ipython-input-27-060fa42fca42>:8: SettingWithCopyWarning: \n",
      "A value is trying to be set on a copy of a slice from a DataFrame.\n",
      "Try using .loc[row_indexer,col_indexer] = value instead\n",
      "\n",
      "See the caveats in the documentation: https://pandas.pydata.org/pandas-docs/stable/user_guide/indexing.html#returning-a-view-versus-a-copy\n",
      "  xtrain['FFMC_label_ordered'] = xtrain.FFMC_q.map(ordinal_label)\n",
      "<ipython-input-27-060fa42fca42>:9: SettingWithCopyWarning: \n",
      "A value is trying to be set on a copy of a slice from a DataFrame.\n",
      "Try using .loc[row_indexer,col_indexer] = value instead\n",
      "\n",
      "See the caveats in the documentation: https://pandas.pydata.org/pandas-docs/stable/user_guide/indexing.html#returning-a-view-versus-a-copy\n",
      "  xtest['FFMC_label_ordered'] = xtest.FFMC_q.map(ordinal_label)\n"
     ]
    },
    {
     "data": {
      "text/html": [
       "<div>\n",
       "<style scoped>\n",
       "    .dataframe tbody tr th:only-of-type {\n",
       "        vertical-align: middle;\n",
       "    }\n",
       "\n",
       "    .dataframe tbody tr th {\n",
       "        vertical-align: top;\n",
       "    }\n",
       "\n",
       "    .dataframe thead th {\n",
       "        text-align: right;\n",
       "    }\n",
       "</style>\n",
       "<table border=\"1\" class=\"dataframe\">\n",
       "  <thead>\n",
       "    <tr style=\"text-align: right;\">\n",
       "      <th></th>\n",
       "      <th>X</th>\n",
       "      <th>Y</th>\n",
       "      <th>month</th>\n",
       "      <th>day</th>\n",
       "      <th>FFMC</th>\n",
       "      <th>DMC</th>\n",
       "      <th>DC</th>\n",
       "      <th>ISI</th>\n",
       "      <th>temp</th>\n",
       "      <th>RH</th>\n",
       "      <th>wind</th>\n",
       "      <th>rain</th>\n",
       "      <th>area</th>\n",
       "      <th>FFMC_q</th>\n",
       "      <th>FFMC_label_ordered</th>\n",
       "    </tr>\n",
       "  </thead>\n",
       "  <tbody>\n",
       "    <tr>\n",
       "      <th>442</th>\n",
       "      <td>6</td>\n",
       "      <td>5</td>\n",
       "      <td>apr</td>\n",
       "      <td>mon</td>\n",
       "      <td>87.9</td>\n",
       "      <td>24.9</td>\n",
       "      <td>41.6</td>\n",
       "      <td>3.7</td>\n",
       "      <td>10.9</td>\n",
       "      <td>64</td>\n",
       "      <td>3.1</td>\n",
       "      <td>0.0</td>\n",
       "      <td>1.273529</td>\n",
       "      <td>(85.7, 89.7]</td>\n",
       "      <td>0</td>\n",
       "    </tr>\n",
       "    <tr>\n",
       "      <th>202</th>\n",
       "      <td>7</td>\n",
       "      <td>4</td>\n",
       "      <td>feb</td>\n",
       "      <td>sun</td>\n",
       "      <td>85.0</td>\n",
       "      <td>8.7</td>\n",
       "      <td>32.1</td>\n",
       "      <td>2.1</td>\n",
       "      <td>8.8</td>\n",
       "      <td>68</td>\n",
       "      <td>2.2</td>\n",
       "      <td>0.0</td>\n",
       "      <td>1.671561</td>\n",
       "      <td>(84.999, 85.7]</td>\n",
       "      <td>8</td>\n",
       "    </tr>\n",
       "    <tr>\n",
       "      <th>276</th>\n",
       "      <td>4</td>\n",
       "      <td>4</td>\n",
       "      <td>dec</td>\n",
       "      <td>mon</td>\n",
       "      <td>85.4</td>\n",
       "      <td>25.4</td>\n",
       "      <td>349.7</td>\n",
       "      <td>2.6</td>\n",
       "      <td>4.6</td>\n",
       "      <td>21</td>\n",
       "      <td>8.5</td>\n",
       "      <td>0.0</td>\n",
       "      <td>1.779622</td>\n",
       "      <td>(84.999, 85.7]</td>\n",
       "      <td>8</td>\n",
       "    </tr>\n",
       "    <tr>\n",
       "      <th>120</th>\n",
       "      <td>3</td>\n",
       "      <td>4</td>\n",
       "      <td>aug</td>\n",
       "      <td>mon</td>\n",
       "      <td>91.5</td>\n",
       "      <td>145.4</td>\n",
       "      <td>608.2</td>\n",
       "      <td>10.7</td>\n",
       "      <td>10.3</td>\n",
       "      <td>74</td>\n",
       "      <td>2.2</td>\n",
       "      <td>0.0</td>\n",
       "      <td>0.000000</td>\n",
       "      <td>(91.2, 91.6]</td>\n",
       "      <td>1</td>\n",
       "    </tr>\n",
       "    <tr>\n",
       "      <th>150</th>\n",
       "      <td>6</td>\n",
       "      <td>5</td>\n",
       "      <td>jun</td>\n",
       "      <td>fri</td>\n",
       "      <td>92.5</td>\n",
       "      <td>56.4</td>\n",
       "      <td>433.3</td>\n",
       "      <td>7.1</td>\n",
       "      <td>23.2</td>\n",
       "      <td>39</td>\n",
       "      <td>5.4</td>\n",
       "      <td>0.0</td>\n",
       "      <td>1.035403</td>\n",
       "      <td>(92.1, 92.5]</td>\n",
       "      <td>6</td>\n",
       "    </tr>\n",
       "  </tbody>\n",
       "</table>\n",
       "</div>"
      ],
      "text/plain": [
       "     X  Y month  day  FFMC    DMC     DC   ISI  temp  RH  wind  rain  \\\n",
       "442  6  5   apr  mon  87.9   24.9   41.6   3.7  10.9  64   3.1   0.0   \n",
       "202  7  4   feb  sun  85.0    8.7   32.1   2.1   8.8  68   2.2   0.0   \n",
       "276  4  4   dec  mon  85.4   25.4  349.7   2.6   4.6  21   8.5   0.0   \n",
       "120  3  4   aug  mon  91.5  145.4  608.2  10.7  10.3  74   2.2   0.0   \n",
       "150  6  5   jun  fri  92.5   56.4  433.3   7.1  23.2  39   5.4   0.0   \n",
       "\n",
       "         area          FFMC_q FFMC_label_ordered  \n",
       "442  1.273529    (85.7, 89.7]                  0  \n",
       "202  1.671561  (84.999, 85.7]                  8  \n",
       "276  1.779622  (84.999, 85.7]                  8  \n",
       "120  0.000000    (91.2, 91.6]                  1  \n",
       "150  1.035403    (92.1, 92.5]                  6  "
      ]
     },
     "execution_count": 27,
     "metadata": {},
     "output_type": "execute_result"
    }
   ],
   "source": [
    "# order the intervals \n",
    "ordered_labels = xtrain.groupby(['FFMC_q'])['area'].mean().sort_values().index\n",
    "\n",
    "# number the intervals according to survival rate\n",
    "ordinal_label = {k:i for i, k in enumerate(ordered_labels, 0)} \n",
    "\n",
    "# remap the intervals to the encoded variable\n",
    "xtrain['FFMC_label_ordered'] = xtrain.FFMC_q.map(ordinal_label)\n",
    "xtest['FFMC_label_ordered'] = xtest.FFMC_q.map(ordinal_label)\n",
    "\n",
    "xtrain.head()"
   ]
  },
  {
   "cell_type": "markdown",
   "metadata": {},
   "source": [
    "For rain"
   ]
  },
  {
   "cell_type": "code",
   "execution_count": 28,
   "metadata": {},
   "outputs": [
    {
     "data": {
      "text/plain": [
       "0.0"
      ]
     },
     "execution_count": 28,
     "metadata": {},
     "output_type": "execute_result"
    }
   ],
   "source": [
    "IQR = datae.rain.quantile(0.75) - datae.rain.quantile(0.25)\n",
    "\n",
    "Upper_fence = xtrain.rain.quantile(0.75) + (IQR * 3)\n",
    "\n",
    "Upper_fence"
   ]
  },
  {
   "cell_type": "code",
   "execution_count": 29,
   "metadata": {},
   "outputs": [
    {
     "name": "stdout",
     "output_type": "stream",
     "text": [
      "percentage of outliers: 0.0\n"
     ]
    }
   ],
   "source": [
    "#percentage of outliers\n",
    "print('percentage of outliers: {}'.format(xtrain[xtrain.rain<0].shape[0]/np.float(xtrain.shape[0])))"
   ]
  },
  {
   "cell_type": "code",
   "execution_count": 30,
   "metadata": {},
   "outputs": [
    {
     "name": "stdout",
     "output_type": "stream",
     "text": [
      "X\n",
      "-------------------------\n",
      "4    0.215385\n",
      "2    0.153846\n",
      "8    0.130769\n",
      "6    0.130769\n",
      "7    0.115385\n",
      "1    0.076923\n",
      "3    0.069231\n",
      "9    0.053846\n",
      "5    0.053846\n",
      "Name: X, dtype: float64\n",
      "\n",
      "Y\n",
      "-------------------------\n",
      "4    0.384615\n",
      "5    0.207692\n",
      "6    0.176923\n",
      "3    0.138462\n",
      "2    0.061538\n",
      "9    0.030769\n",
      "Name: Y, dtype: float64\n",
      "\n",
      "month\n",
      "-------------------------\n",
      "aug    0.361538\n",
      "sep    0.315385\n",
      "jul    0.100000\n",
      "mar    0.092308\n",
      "feb    0.030769\n",
      "jun    0.030769\n",
      "dec    0.023077\n",
      "oct    0.023077\n",
      "may    0.007692\n",
      "apr    0.007692\n",
      "jan    0.007692\n",
      "Name: month, dtype: float64\n",
      "\n",
      "day\n",
      "-------------------------\n",
      "sun    0.215385\n",
      "sat    0.153846\n",
      "fri    0.153846\n",
      "mon    0.146154\n",
      "tue    0.130769\n",
      "thu    0.123077\n",
      "wed    0.076923\n",
      "Name: day, dtype: float64\n",
      "\n",
      "FFMC\n",
      "-------------------------\n",
      "85.0    0.076923\n",
      "91.6    0.076923\n",
      "91.0    0.046154\n",
      "92.4    0.046154\n",
      "94.8    0.046154\n",
      "91.7    0.030769\n",
      "93.7    0.030769\n",
      "92.1    0.030769\n",
      "90.2    0.030769\n",
      "91.2    0.023077\n",
      "93.5    0.023077\n",
      "90.6    0.023077\n",
      "95.1    0.023077\n",
      "91.1    0.023077\n",
      "92.9    0.023077\n",
      "92.2    0.023077\n",
      "95.2    0.015385\n",
      "90.1    0.015385\n",
      "90.5    0.015385\n",
      "92.5    0.015385\n",
      "87.2    0.015385\n",
      "93.9    0.015385\n",
      "88.8    0.015385\n",
      "91.8    0.015385\n",
      "90.3    0.015385\n",
      "88.1    0.015385\n",
      "93.6    0.015385\n",
      "92.3    0.015385\n",
      "94.3    0.015385\n",
      "93.3    0.015385\n",
      "92.8    0.015385\n",
      "91.4    0.007692\n",
      "86.2    0.007692\n",
      "89.3    0.007692\n",
      "91.5    0.007692\n",
      "96.2    0.007692\n",
      "95.0    0.007692\n",
      "93.4    0.007692\n",
      "93.2    0.007692\n",
      "90.4    0.007692\n",
      "89.7    0.007692\n",
      "89.4    0.007692\n",
      "90.9    0.007692\n",
      "92.6    0.007692\n",
      "86.8    0.007692\n",
      "95.9    0.007692\n",
      "94.2    0.007692\n",
      "91.9    0.007692\n",
      "94.6    0.007692\n",
      "86.6    0.007692\n",
      "85.6    0.007692\n",
      "87.6    0.007692\n",
      "93.1    0.007692\n",
      "85.8    0.007692\n",
      "88.9    0.007692\n",
      "89.6    0.007692\n",
      "Name: FFMC, dtype: float64\n",
      "\n",
      "DMC\n",
      "-------------------------\n",
      "108.3    0.038462\n",
      "129.5    0.030769\n",
      "141.3    0.023077\n",
      "102.3    0.023077\n",
      "104.2    0.023077\n",
      "           ...   \n",
      "25.4     0.007692\n",
      "169.7    0.007692\n",
      "92.1     0.007692\n",
      "51.3     0.007692\n",
      "49.5     0.007692\n",
      "Name: DMC, Length: 99, dtype: float64\n",
      "\n",
      "DC\n",
      "-------------------------\n",
      "647.1    0.038462\n",
      "692.6    0.030769\n",
      "474.9    0.023077\n",
      "605.8    0.023077\n",
      "751.5    0.023077\n",
      "           ...   \n",
      "442.1    0.007692\n",
      "770.3    0.007692\n",
      "605.3    0.007692\n",
      "692.3    0.007692\n",
      "353.5    0.007692\n",
      "Name: DC, Length: 101, dtype: float64\n",
      "\n",
      "ISI\n",
      "-------------------------\n",
      "8.4     0.046154\n",
      "9.0     0.046154\n",
      "17.0    0.038462\n",
      "6.3     0.038462\n",
      "7.0     0.038462\n",
      "          ...   \n",
      "5.6     0.007692\n",
      "6.6     0.007692\n",
      "13.7    0.007692\n",
      "22.6    0.007692\n",
      "14.0    0.007692\n",
      "Name: ISI, Length: 74, dtype: float64\n",
      "\n",
      "temp\n",
      "-------------------------\n",
      "20.6    0.038462\n",
      "17.4    0.023077\n",
      "19.3    0.023077\n",
      "16.4    0.015385\n",
      "20.9    0.015385\n",
      "          ...   \n",
      "24.1    0.007692\n",
      "12.6    0.007692\n",
      "5.2     0.007692\n",
      "4.8     0.007692\n",
      "28.0    0.007692\n",
      "Name: temp, Length: 101, dtype: float64\n",
      "\n",
      "RH\n",
      "-------------------------\n",
      "27     0.061538\n",
      "40     0.053846\n",
      "32     0.046154\n",
      "34     0.046154\n",
      "66     0.038462\n",
      "43     0.038462\n",
      "24     0.038462\n",
      "35     0.038462\n",
      "29     0.030769\n",
      "46     0.030769\n",
      "51     0.030769\n",
      "42     0.030769\n",
      "39     0.030769\n",
      "44     0.023077\n",
      "45     0.023077\n",
      "33     0.023077\n",
      "50     0.023077\n",
      "55     0.023077\n",
      "54     0.023077\n",
      "59     0.023077\n",
      "64     0.023077\n",
      "28     0.023077\n",
      "25     0.023077\n",
      "38     0.023077\n",
      "53     0.015385\n",
      "48     0.015385\n",
      "47     0.015385\n",
      "58     0.015385\n",
      "26     0.015385\n",
      "36     0.007692\n",
      "31     0.007692\n",
      "30     0.007692\n",
      "19     0.007692\n",
      "100    0.007692\n",
      "37     0.007692\n",
      "41     0.007692\n",
      "96     0.007692\n",
      "49     0.007692\n",
      "56     0.007692\n",
      "57     0.007692\n",
      "60     0.007692\n",
      "61     0.007692\n",
      "73     0.007692\n",
      "78     0.007692\n",
      "79     0.007692\n",
      "82     0.007692\n",
      "84     0.007692\n",
      "90     0.007692\n",
      "15     0.007692\n",
      "Name: RH, dtype: float64\n",
      "\n",
      "wind\n",
      "-------------------------\n",
      "4.0    0.130769\n",
      "2.2    0.115385\n",
      "4.9    0.100000\n",
      "2.7    0.092308\n",
      "3.1    0.092308\n",
      "3.6    0.076923\n",
      "4.5    0.061538\n",
      "5.4    0.061538\n",
      "1.3    0.053846\n",
      "5.8    0.046154\n",
      "0.9    0.038462\n",
      "1.8    0.038462\n",
      "6.7    0.023077\n",
      "7.6    0.023077\n",
      "8.5    0.023077\n",
      "6.3    0.015385\n",
      "7.2    0.007692\n",
      "Name: wind, dtype: float64\n",
      "\n",
      "rain\n",
      "-------------------------\n",
      "0.0    0.992308\n",
      "0.2    0.007692\n",
      "Name: rain, dtype: float64\n",
      "\n",
      "area\n",
      "-------------------------\n",
      "0.000000    0.492308\n",
      "1.093012    0.015385\n",
      "1.435707    0.007692\n",
      "1.551155    0.007692\n",
      "1.224240    0.007692\n",
      "              ...   \n",
      "0.884054    0.007692\n",
      "1.448652    0.007692\n",
      "1.156629    0.007692\n",
      "1.408830    0.007692\n",
      "1.063427    0.007692\n",
      "Name: area, Length: 66, dtype: float64\n",
      "\n",
      "FFMC_q\n",
      "-------------------------\n",
      "(93.1, 94.3]    0.138462\n",
      "(85.7, 89.7]    0.123077\n",
      "(94.3, 96.2]    0.115385\n",
      "(89.7, 90.7]    0.107692\n",
      "(92.1, 92.5]    0.100000\n",
      "(90.7, 91.2]    0.100000\n",
      "(91.2, 91.6]    0.092308\n",
      "(91.6, 92.1]    0.084615\n",
      "(92.5, 93.1]    0.053846\n",
      "(85.0, 85.7]    0.007692\n",
      "Name: FFMC_q, dtype: float64\n",
      "\n",
      "FFMC_label_ordered\n",
      "-------------------------\n",
      "3.0    0.138462\n",
      "0.0    0.123077\n",
      "9.0    0.115385\n",
      "4.0    0.107692\n",
      "6.0    0.100000\n",
      "5.0    0.100000\n",
      "1.0    0.092308\n",
      "2.0    0.084615\n",
      "7.0    0.053846\n",
      "Name: FFMC_label_ordered, dtype: float64\n",
      "\n"
     ]
    }
   ],
   "source": [
    "for col in xtest.columns:\n",
    "    print(col)\n",
    "    print('-------------------------')\n",
    "    print(xtest[col].value_counts()/np.float(len(xtest)))\n",
    "    print()"
   ]
  },
  {
   "cell_type": "markdown",
   "metadata": {},
   "source": [
    "As we see 99 percent of rain is 0. So coloumn rain is negligible"
   ]
  },
  {
   "cell_type": "markdown",
   "metadata": {},
   "source": [
    "For ISI"
   ]
  },
  {
   "cell_type": "code",
   "execution_count": 31,
   "metadata": {},
   "outputs": [
    {
     "data": {
      "text/plain": [
       "4.1999999999999975"
      ]
     },
     "execution_count": 31,
     "metadata": {},
     "output_type": "execute_result"
    },
    {
     "data": {
      "text/plain": [
       "23.55"
      ]
     },
     "execution_count": 31,
     "metadata": {},
     "output_type": "execute_result"
    }
   ],
   "source": [
    "IQR = datae.ISI.quantile(0.75) - datae.ISI.quantile(0.25)\n",
    "\n",
    "Lower_fence = xtrain.ISI.quantile(0.75) - (IQR * 1.5)\n",
    "\n",
    "Lower_fence\n",
    "\n",
    "Upper_fence = xtrain.ISI.quantile(0.75) + (IQR * 3)\n",
    "\n",
    "Upper_fence"
   ]
  },
  {
   "cell_type": "code",
   "execution_count": 32,
   "metadata": {},
   "outputs": [
    {
     "name": "stderr",
     "output_type": "stream",
     "text": [
      "c:\\users\\gokul\\appdata\\local\\programs\\python\\python38\\lib\\site-packages\\pandas\\core\\indexing.py:1763: SettingWithCopyWarning: \n",
      "A value is trying to be set on a copy of a slice from a DataFrame.\n",
      "Try using .loc[row_indexer,col_indexer] = value instead\n",
      "\n",
      "See the caveats in the documentation: https://pandas.pydata.org/pandas-docs/stable/user_guide/indexing.html#returning-a-view-versus-a-copy\n",
      "  isetter(loc, value)\n",
      "c:\\users\\gokul\\appdata\\local\\programs\\python\\python38\\lib\\site-packages\\pandas\\core\\indexing.py:1763: SettingWithCopyWarning: \n",
      "A value is trying to be set on a copy of a slice from a DataFrame.\n",
      "Try using .loc[row_indexer,col_indexer] = value instead\n",
      "\n",
      "See the caveats in the documentation: https://pandas.pydata.org/pandas-docs/stable/user_guide/indexing.html#returning-a-view-versus-a-copy\n",
      "  isetter(loc, value)\n"
     ]
    },
    {
     "data": {
      "text/plain": [
       "(4.0, 4.0)"
      ]
     },
     "execution_count": 32,
     "metadata": {},
     "output_type": "execute_result"
    }
   ],
   "source": [
    "#lOWER CODING\n",
    "xtrain.loc[xtrain.ISI<=4, 'ISI'] = 4\n",
    "xtest.loc[xtest.ISI<=4, 'ISI'] = 4\n",
    "xtrain.ISI.min(), xtest.ISI.min()\n"
   ]
  },
  {
   "cell_type": "code",
   "execution_count": 33,
   "metadata": {},
   "outputs": [
    {
     "name": "stderr",
     "output_type": "stream",
     "text": [
      "c:\\users\\gokul\\appdata\\local\\programs\\python\\python38\\lib\\site-packages\\pandas\\core\\indexing.py:1763: SettingWithCopyWarning: \n",
      "A value is trying to be set on a copy of a slice from a DataFrame.\n",
      "Try using .loc[row_indexer,col_indexer] = value instead\n",
      "\n",
      "See the caveats in the documentation: https://pandas.pydata.org/pandas-docs/stable/user_guide/indexing.html#returning-a-view-versus-a-copy\n",
      "  isetter(loc, value)\n",
      "c:\\users\\gokul\\appdata\\local\\programs\\python\\python38\\lib\\site-packages\\pandas\\core\\indexing.py:1763: SettingWithCopyWarning: \n",
      "A value is trying to be set on a copy of a slice from a DataFrame.\n",
      "Try using .loc[row_indexer,col_indexer] = value instead\n",
      "\n",
      "See the caveats in the documentation: https://pandas.pydata.org/pandas-docs/stable/user_guide/indexing.html#returning-a-view-versus-a-copy\n",
      "  isetter(loc, value)\n"
     ]
    },
    {
     "data": {
      "text/plain": [
       "(24.0, 22.7)"
      ]
     },
     "execution_count": 33,
     "metadata": {},
     "output_type": "execute_result"
    }
   ],
   "source": [
    "#UPPER CODING\n",
    "xtrain.loc[xtrain.ISI>=24, 'ISI'] = 24\n",
    "xtest.loc[xtest.ISI>=24, 'ISI'] = 24\n",
    "xtrain.ISI.max(), xtest.ISI.max()"
   ]
  },
  {
   "cell_type": "code",
   "execution_count": 34,
   "metadata": {},
   "outputs": [
    {
     "name": "stdout",
     "output_type": "stream",
     "text": [
      "[1, 2, 3, 4, 5]\n"
     ]
    },
    {
     "name": "stderr",
     "output_type": "stream",
     "text": [
      "<ipython-input-34-226e61fdeebf>:12: SettingWithCopyWarning: \n",
      "A value is trying to be set on a copy of a slice from a DataFrame.\n",
      "Try using .loc[row_indexer,col_indexer] = value instead\n",
      "\n",
      "See the caveats in the documentation: https://pandas.pydata.org/pandas-docs/stable/user_guide/indexing.html#returning-a-view-versus-a-copy\n",
      "  xtrain['ISI_q'], bins = pd.qcut(x=xtrain.ISI, q=5, retbins=True, precision=3, duplicates='raise')\n"
     ]
    },
    {
     "data": {
      "text/html": [
       "<div>\n",
       "<style scoped>\n",
       "    .dataframe tbody tr th:only-of-type {\n",
       "        vertical-align: middle;\n",
       "    }\n",
       "\n",
       "    .dataframe tbody tr th {\n",
       "        vertical-align: top;\n",
       "    }\n",
       "\n",
       "    .dataframe thead th {\n",
       "        text-align: right;\n",
       "    }\n",
       "</style>\n",
       "<table border=\"1\" class=\"dataframe\">\n",
       "  <thead>\n",
       "    <tr style=\"text-align: right;\">\n",
       "      <th></th>\n",
       "      <th>X</th>\n",
       "      <th>Y</th>\n",
       "      <th>month</th>\n",
       "      <th>day</th>\n",
       "      <th>FFMC</th>\n",
       "      <th>DMC</th>\n",
       "      <th>DC</th>\n",
       "      <th>ISI</th>\n",
       "      <th>temp</th>\n",
       "      <th>RH</th>\n",
       "      <th>wind</th>\n",
       "      <th>rain</th>\n",
       "      <th>area</th>\n",
       "      <th>FFMC_q</th>\n",
       "      <th>FFMC_label_ordered</th>\n",
       "      <th>ISI_q</th>\n",
       "    </tr>\n",
       "  </thead>\n",
       "  <tbody>\n",
       "    <tr>\n",
       "      <th>442</th>\n",
       "      <td>6</td>\n",
       "      <td>5</td>\n",
       "      <td>apr</td>\n",
       "      <td>mon</td>\n",
       "      <td>87.9</td>\n",
       "      <td>24.9</td>\n",
       "      <td>41.6</td>\n",
       "      <td>4.0</td>\n",
       "      <td>10.9</td>\n",
       "      <td>64</td>\n",
       "      <td>3.1</td>\n",
       "      <td>0.0</td>\n",
       "      <td>1.273529</td>\n",
       "      <td>(85.7, 89.7]</td>\n",
       "      <td>0</td>\n",
       "      <td>(3.999, 6.2]</td>\n",
       "    </tr>\n",
       "    <tr>\n",
       "      <th>202</th>\n",
       "      <td>7</td>\n",
       "      <td>4</td>\n",
       "      <td>feb</td>\n",
       "      <td>sun</td>\n",
       "      <td>85.0</td>\n",
       "      <td>8.7</td>\n",
       "      <td>32.1</td>\n",
       "      <td>4.0</td>\n",
       "      <td>8.8</td>\n",
       "      <td>68</td>\n",
       "      <td>2.2</td>\n",
       "      <td>0.0</td>\n",
       "      <td>1.671561</td>\n",
       "      <td>(84.999, 85.7]</td>\n",
       "      <td>8</td>\n",
       "      <td>(3.999, 6.2]</td>\n",
       "    </tr>\n",
       "    <tr>\n",
       "      <th>276</th>\n",
       "      <td>4</td>\n",
       "      <td>4</td>\n",
       "      <td>dec</td>\n",
       "      <td>mon</td>\n",
       "      <td>85.4</td>\n",
       "      <td>25.4</td>\n",
       "      <td>349.7</td>\n",
       "      <td>4.0</td>\n",
       "      <td>4.6</td>\n",
       "      <td>21</td>\n",
       "      <td>8.5</td>\n",
       "      <td>0.0</td>\n",
       "      <td>1.779622</td>\n",
       "      <td>(84.999, 85.7]</td>\n",
       "      <td>8</td>\n",
       "      <td>(3.999, 6.2]</td>\n",
       "    </tr>\n",
       "    <tr>\n",
       "      <th>120</th>\n",
       "      <td>3</td>\n",
       "      <td>4</td>\n",
       "      <td>aug</td>\n",
       "      <td>mon</td>\n",
       "      <td>91.5</td>\n",
       "      <td>145.4</td>\n",
       "      <td>608.2</td>\n",
       "      <td>10.7</td>\n",
       "      <td>10.3</td>\n",
       "      <td>74</td>\n",
       "      <td>2.2</td>\n",
       "      <td>0.0</td>\n",
       "      <td>0.000000</td>\n",
       "      <td>(91.2, 91.6]</td>\n",
       "      <td>1</td>\n",
       "      <td>(9.2, 12.0]</td>\n",
       "    </tr>\n",
       "    <tr>\n",
       "      <th>150</th>\n",
       "      <td>6</td>\n",
       "      <td>5</td>\n",
       "      <td>jun</td>\n",
       "      <td>fri</td>\n",
       "      <td>92.5</td>\n",
       "      <td>56.4</td>\n",
       "      <td>433.3</td>\n",
       "      <td>7.1</td>\n",
       "      <td>23.2</td>\n",
       "      <td>39</td>\n",
       "      <td>5.4</td>\n",
       "      <td>0.0</td>\n",
       "      <td>1.035403</td>\n",
       "      <td>(92.1, 92.5]</td>\n",
       "      <td>6</td>\n",
       "      <td>(6.2, 7.5]</td>\n",
       "    </tr>\n",
       "  </tbody>\n",
       "</table>\n",
       "</div>"
      ],
      "text/plain": [
       "     X  Y month  day  FFMC    DMC     DC   ISI  temp  RH  wind  rain  \\\n",
       "442  6  5   apr  mon  87.9   24.9   41.6   4.0  10.9  64   3.1   0.0   \n",
       "202  7  4   feb  sun  85.0    8.7   32.1   4.0   8.8  68   2.2   0.0   \n",
       "276  4  4   dec  mon  85.4   25.4  349.7   4.0   4.6  21   8.5   0.0   \n",
       "120  3  4   aug  mon  91.5  145.4  608.2  10.7  10.3  74   2.2   0.0   \n",
       "150  6  5   jun  fri  92.5   56.4  433.3   7.1  23.2  39   5.4   0.0   \n",
       "\n",
       "         area          FFMC_q FFMC_label_ordered         ISI_q  \n",
       "442  1.273529    (85.7, 89.7]                  0  (3.999, 6.2]  \n",
       "202  1.671561  (84.999, 85.7]                  8  (3.999, 6.2]  \n",
       "276  1.779622  (84.999, 85.7]                  8  (3.999, 6.2]  \n",
       "120  0.000000    (91.2, 91.6]                  1   (9.2, 12.0]  \n",
       "150  1.035403    (92.1, 92.5]                  6    (6.2, 7.5]  "
      ]
     },
     "execution_count": 34,
     "metadata": {},
     "output_type": "execute_result"
    }
   ],
   "source": [
    "# and now, I will divide into 10 quantiles for the rest of the exercise. I will leave the quantile\n",
    "# boundary and generate labels as well for comparison\n",
    "\n",
    "# create 10 labels, one for each quantile\n",
    "labels = [i+1 for i in range(0,5)]\n",
    "print(labels)\n",
    "\n",
    "# bins with labels\n",
    "#xtrain['ISI_label'], bins = pd.qcut(x=xtrain.ISI, q=5, labels=labels, retbins=True, precision=3, duplicates='raise')\n",
    "\n",
    "# bins with boundaries\n",
    "xtrain['ISI_q'], bins = pd.qcut(x=xtrain.ISI, q=5, retbins=True, precision=3, duplicates='raise')\n",
    "\n",
    "\n",
    "xtrain.head()"
   ]
  },
  {
   "cell_type": "code",
   "execution_count": 35,
   "metadata": {},
   "outputs": [
    {
     "data": {
      "text/plain": [
       "array([ 4. ,  6.2,  7.5,  9.2, 12. , 24. ])"
      ]
     },
     "execution_count": 35,
     "metadata": {},
     "output_type": "execute_result"
    }
   ],
   "source": [
    "bins"
   ]
  },
  {
   "cell_type": "code",
   "execution_count": 36,
   "metadata": {},
   "outputs": [
    {
     "name": "stderr",
     "output_type": "stream",
     "text": [
      "<ipython-input-36-09acc125ec7c>:3: SettingWithCopyWarning: \n",
      "A value is trying to be set on a copy of a slice from a DataFrame.\n",
      "Try using .loc[row_indexer,col_indexer] = value instead\n",
      "\n",
      "See the caveats in the documentation: https://pandas.pydata.org/pandas-docs/stable/user_guide/indexing.html#returning-a-view-versus-a-copy\n",
      "  xtest['ISI_q'] = pd.cut(x = xtest.ISI, bins=bins)\n"
     ]
    },
    {
     "data": {
      "text/html": [
       "<div>\n",
       "<style scoped>\n",
       "    .dataframe tbody tr th:only-of-type {\n",
       "        vertical-align: middle;\n",
       "    }\n",
       "\n",
       "    .dataframe tbody tr th {\n",
       "        vertical-align: top;\n",
       "    }\n",
       "\n",
       "    .dataframe thead th {\n",
       "        text-align: right;\n",
       "    }\n",
       "</style>\n",
       "<table border=\"1\" class=\"dataframe\">\n",
       "  <thead>\n",
       "    <tr style=\"text-align: right;\">\n",
       "      <th></th>\n",
       "      <th>X</th>\n",
       "      <th>Y</th>\n",
       "      <th>month</th>\n",
       "      <th>day</th>\n",
       "      <th>FFMC</th>\n",
       "      <th>DMC</th>\n",
       "      <th>DC</th>\n",
       "      <th>ISI</th>\n",
       "      <th>temp</th>\n",
       "      <th>RH</th>\n",
       "      <th>wind</th>\n",
       "      <th>rain</th>\n",
       "      <th>area</th>\n",
       "      <th>FFMC_q</th>\n",
       "      <th>FFMC_label_ordered</th>\n",
       "      <th>ISI_q</th>\n",
       "    </tr>\n",
       "  </thead>\n",
       "  <tbody>\n",
       "    <tr>\n",
       "      <th>400</th>\n",
       "      <td>9</td>\n",
       "      <td>5</td>\n",
       "      <td>jun</td>\n",
       "      <td>wed</td>\n",
       "      <td>93.3</td>\n",
       "      <td>49.5</td>\n",
       "      <td>297.7</td>\n",
       "      <td>14.0</td>\n",
       "      <td>28.0</td>\n",
       "      <td>34</td>\n",
       "      <td>4.5</td>\n",
       "      <td>0.0</td>\n",
       "      <td>1.521732</td>\n",
       "      <td>(93.1, 94.3]</td>\n",
       "      <td>3.0</td>\n",
       "      <td>(12.0, 24.0]</td>\n",
       "    </tr>\n",
       "    <tr>\n",
       "      <th>379</th>\n",
       "      <td>4</td>\n",
       "      <td>5</td>\n",
       "      <td>jan</td>\n",
       "      <td>sun</td>\n",
       "      <td>85.0</td>\n",
       "      <td>1.1</td>\n",
       "      <td>171.4</td>\n",
       "      <td>4.0</td>\n",
       "      <td>5.2</td>\n",
       "      <td>100</td>\n",
       "      <td>0.9</td>\n",
       "      <td>0.0</td>\n",
       "      <td>0.000000</td>\n",
       "      <td>NaN</td>\n",
       "      <td>NaN</td>\n",
       "      <td>NaN</td>\n",
       "    </tr>\n",
       "    <tr>\n",
       "      <th>286</th>\n",
       "      <td>7</td>\n",
       "      <td>6</td>\n",
       "      <td>jul</td>\n",
       "      <td>wed</td>\n",
       "      <td>91.2</td>\n",
       "      <td>183.1</td>\n",
       "      <td>437.7</td>\n",
       "      <td>12.5</td>\n",
       "      <td>12.6</td>\n",
       "      <td>90</td>\n",
       "      <td>7.6</td>\n",
       "      <td>0.2</td>\n",
       "      <td>0.000000</td>\n",
       "      <td>(90.7, 91.2]</td>\n",
       "      <td>5.0</td>\n",
       "      <td>(12.0, 24.0]</td>\n",
       "    </tr>\n",
       "    <tr>\n",
       "      <th>125</th>\n",
       "      <td>3</td>\n",
       "      <td>4</td>\n",
       "      <td>oct</td>\n",
       "      <td>sun</td>\n",
       "      <td>92.6</td>\n",
       "      <td>46.5</td>\n",
       "      <td>691.8</td>\n",
       "      <td>8.8</td>\n",
       "      <td>20.6</td>\n",
       "      <td>24</td>\n",
       "      <td>5.4</td>\n",
       "      <td>0.0</td>\n",
       "      <td>0.000000</td>\n",
       "      <td>(92.5, 93.1]</td>\n",
       "      <td>7.0</td>\n",
       "      <td>(7.5, 9.2]</td>\n",
       "    </tr>\n",
       "    <tr>\n",
       "      <th>216</th>\n",
       "      <td>4</td>\n",
       "      <td>4</td>\n",
       "      <td>sep</td>\n",
       "      <td>sun</td>\n",
       "      <td>92.4</td>\n",
       "      <td>124.1</td>\n",
       "      <td>680.7</td>\n",
       "      <td>8.5</td>\n",
       "      <td>16.9</td>\n",
       "      <td>60</td>\n",
       "      <td>1.3</td>\n",
       "      <td>0.0</td>\n",
       "      <td>1.967458</td>\n",
       "      <td>(92.1, 92.5]</td>\n",
       "      <td>6.0</td>\n",
       "      <td>(7.5, 9.2]</td>\n",
       "    </tr>\n",
       "  </tbody>\n",
       "</table>\n",
       "</div>"
      ],
      "text/plain": [
       "     X  Y month  day  FFMC    DMC     DC   ISI  temp   RH  wind  rain  \\\n",
       "400  9  5   jun  wed  93.3   49.5  297.7  14.0  28.0   34   4.5   0.0   \n",
       "379  4  5   jan  sun  85.0    1.1  171.4   4.0   5.2  100   0.9   0.0   \n",
       "286  7  6   jul  wed  91.2  183.1  437.7  12.5  12.6   90   7.6   0.2   \n",
       "125  3  4   oct  sun  92.6   46.5  691.8   8.8  20.6   24   5.4   0.0   \n",
       "216  4  4   sep  sun  92.4  124.1  680.7   8.5  16.9   60   1.3   0.0   \n",
       "\n",
       "         area        FFMC_q  FFMC_label_ordered         ISI_q  \n",
       "400  1.521732  (93.1, 94.3]                 3.0  (12.0, 24.0]  \n",
       "379  0.000000           NaN                 NaN           NaN  \n",
       "286  0.000000  (90.7, 91.2]                 5.0  (12.0, 24.0]  \n",
       "125  0.000000  (92.5, 93.1]                 7.0    (7.5, 9.2]  \n",
       "216  1.967458  (92.1, 92.5]                 6.0    (7.5, 9.2]  "
      ]
     },
     "execution_count": 36,
     "metadata": {},
     "output_type": "execute_result"
    }
   ],
   "source": [
    "# we use pandas cut method and pass the quantile edges calculated in the training set\n",
    "#xtest['ISI_label'] = pd.cut(x =xtest.ISI, bins=bins, labels=labels)\n",
    "xtest['ISI_q'] = pd.cut(x = xtest.ISI, bins=bins)\n",
    "\n",
    "xtest.head()"
   ]
  },
  {
   "cell_type": "code",
   "execution_count": 37,
   "metadata": {},
   "outputs": [
    {
     "name": "stderr",
     "output_type": "stream",
     "text": [
      "<ipython-input-37-60f4be529568>:8: SettingWithCopyWarning: \n",
      "A value is trying to be set on a copy of a slice from a DataFrame.\n",
      "Try using .loc[row_indexer,col_indexer] = value instead\n",
      "\n",
      "See the caveats in the documentation: https://pandas.pydata.org/pandas-docs/stable/user_guide/indexing.html#returning-a-view-versus-a-copy\n",
      "  xtrain['ISI_label_ordered'] = xtrain.ISI_q.map(ordinal_label)\n",
      "<ipython-input-37-60f4be529568>:9: SettingWithCopyWarning: \n",
      "A value is trying to be set on a copy of a slice from a DataFrame.\n",
      "Try using .loc[row_indexer,col_indexer] = value instead\n",
      "\n",
      "See the caveats in the documentation: https://pandas.pydata.org/pandas-docs/stable/user_guide/indexing.html#returning-a-view-versus-a-copy\n",
      "  xtest['ISI_label_ordered'] = xtest.ISI_q.map(ordinal_label)\n"
     ]
    },
    {
     "data": {
      "text/html": [
       "<div>\n",
       "<style scoped>\n",
       "    .dataframe tbody tr th:only-of-type {\n",
       "        vertical-align: middle;\n",
       "    }\n",
       "\n",
       "    .dataframe tbody tr th {\n",
       "        vertical-align: top;\n",
       "    }\n",
       "\n",
       "    .dataframe thead th {\n",
       "        text-align: right;\n",
       "    }\n",
       "</style>\n",
       "<table border=\"1\" class=\"dataframe\">\n",
       "  <thead>\n",
       "    <tr style=\"text-align: right;\">\n",
       "      <th></th>\n",
       "      <th>X</th>\n",
       "      <th>Y</th>\n",
       "      <th>month</th>\n",
       "      <th>day</th>\n",
       "      <th>FFMC</th>\n",
       "      <th>DMC</th>\n",
       "      <th>DC</th>\n",
       "      <th>ISI</th>\n",
       "      <th>temp</th>\n",
       "      <th>RH</th>\n",
       "      <th>wind</th>\n",
       "      <th>rain</th>\n",
       "      <th>area</th>\n",
       "      <th>FFMC_q</th>\n",
       "      <th>FFMC_label_ordered</th>\n",
       "      <th>ISI_q</th>\n",
       "      <th>ISI_label_ordered</th>\n",
       "    </tr>\n",
       "  </thead>\n",
       "  <tbody>\n",
       "    <tr>\n",
       "      <th>442</th>\n",
       "      <td>6</td>\n",
       "      <td>5</td>\n",
       "      <td>apr</td>\n",
       "      <td>mon</td>\n",
       "      <td>87.9</td>\n",
       "      <td>24.9</td>\n",
       "      <td>41.6</td>\n",
       "      <td>4.0</td>\n",
       "      <td>10.9</td>\n",
       "      <td>64</td>\n",
       "      <td>3.1</td>\n",
       "      <td>0.0</td>\n",
       "      <td>1.273529</td>\n",
       "      <td>(85.7, 89.7]</td>\n",
       "      <td>0</td>\n",
       "      <td>(3.999, 6.2]</td>\n",
       "      <td>0</td>\n",
       "    </tr>\n",
       "    <tr>\n",
       "      <th>202</th>\n",
       "      <td>7</td>\n",
       "      <td>4</td>\n",
       "      <td>feb</td>\n",
       "      <td>sun</td>\n",
       "      <td>85.0</td>\n",
       "      <td>8.7</td>\n",
       "      <td>32.1</td>\n",
       "      <td>4.0</td>\n",
       "      <td>8.8</td>\n",
       "      <td>68</td>\n",
       "      <td>2.2</td>\n",
       "      <td>0.0</td>\n",
       "      <td>1.671561</td>\n",
       "      <td>(84.999, 85.7]</td>\n",
       "      <td>8</td>\n",
       "      <td>(3.999, 6.2]</td>\n",
       "      <td>0</td>\n",
       "    </tr>\n",
       "    <tr>\n",
       "      <th>276</th>\n",
       "      <td>4</td>\n",
       "      <td>4</td>\n",
       "      <td>dec</td>\n",
       "      <td>mon</td>\n",
       "      <td>85.4</td>\n",
       "      <td>25.4</td>\n",
       "      <td>349.7</td>\n",
       "      <td>4.0</td>\n",
       "      <td>4.6</td>\n",
       "      <td>21</td>\n",
       "      <td>8.5</td>\n",
       "      <td>0.0</td>\n",
       "      <td>1.779622</td>\n",
       "      <td>(84.999, 85.7]</td>\n",
       "      <td>8</td>\n",
       "      <td>(3.999, 6.2]</td>\n",
       "      <td>0</td>\n",
       "    </tr>\n",
       "    <tr>\n",
       "      <th>120</th>\n",
       "      <td>3</td>\n",
       "      <td>4</td>\n",
       "      <td>aug</td>\n",
       "      <td>mon</td>\n",
       "      <td>91.5</td>\n",
       "      <td>145.4</td>\n",
       "      <td>608.2</td>\n",
       "      <td>10.7</td>\n",
       "      <td>10.3</td>\n",
       "      <td>74</td>\n",
       "      <td>2.2</td>\n",
       "      <td>0.0</td>\n",
       "      <td>0.000000</td>\n",
       "      <td>(91.2, 91.6]</td>\n",
       "      <td>1</td>\n",
       "      <td>(9.2, 12.0]</td>\n",
       "      <td>1</td>\n",
       "    </tr>\n",
       "    <tr>\n",
       "      <th>150</th>\n",
       "      <td>6</td>\n",
       "      <td>5</td>\n",
       "      <td>jun</td>\n",
       "      <td>fri</td>\n",
       "      <td>92.5</td>\n",
       "      <td>56.4</td>\n",
       "      <td>433.3</td>\n",
       "      <td>7.1</td>\n",
       "      <td>23.2</td>\n",
       "      <td>39</td>\n",
       "      <td>5.4</td>\n",
       "      <td>0.0</td>\n",
       "      <td>1.035403</td>\n",
       "      <td>(92.1, 92.5]</td>\n",
       "      <td>6</td>\n",
       "      <td>(6.2, 7.5]</td>\n",
       "      <td>2</td>\n",
       "    </tr>\n",
       "  </tbody>\n",
       "</table>\n",
       "</div>"
      ],
      "text/plain": [
       "     X  Y month  day  FFMC    DMC     DC   ISI  temp  RH  wind  rain  \\\n",
       "442  6  5   apr  mon  87.9   24.9   41.6   4.0  10.9  64   3.1   0.0   \n",
       "202  7  4   feb  sun  85.0    8.7   32.1   4.0   8.8  68   2.2   0.0   \n",
       "276  4  4   dec  mon  85.4   25.4  349.7   4.0   4.6  21   8.5   0.0   \n",
       "120  3  4   aug  mon  91.5  145.4  608.2  10.7  10.3  74   2.2   0.0   \n",
       "150  6  5   jun  fri  92.5   56.4  433.3   7.1  23.2  39   5.4   0.0   \n",
       "\n",
       "         area          FFMC_q FFMC_label_ordered         ISI_q  \\\n",
       "442  1.273529    (85.7, 89.7]                  0  (3.999, 6.2]   \n",
       "202  1.671561  (84.999, 85.7]                  8  (3.999, 6.2]   \n",
       "276  1.779622  (84.999, 85.7]                  8  (3.999, 6.2]   \n",
       "120  0.000000    (91.2, 91.6]                  1   (9.2, 12.0]   \n",
       "150  1.035403    (92.1, 92.5]                  6    (6.2, 7.5]   \n",
       "\n",
       "    ISI_label_ordered  \n",
       "442                 0  \n",
       "202                 0  \n",
       "276                 0  \n",
       "120                 1  \n",
       "150                 2  "
      ]
     },
     "execution_count": 37,
     "metadata": {},
     "output_type": "execute_result"
    }
   ],
   "source": [
    "# order the intervals \n",
    "ordered_labels = xtrain.groupby(['ISI_q'])['area'].mean().sort_values().index\n",
    "\n",
    "# number the intervals according to survival rate\n",
    "ordinal_label = {k:i for i, k in enumerate(ordered_labels, 0)} \n",
    "\n",
    "# remap the intervals to the encoded variable\n",
    "xtrain['ISI_label_ordered'] = xtrain.ISI_q.map(ordinal_label)\n",
    "xtest['ISI_label_ordered'] = xtest.ISI_q.map(ordinal_label)\n",
    "\n",
    "xtrain.head()"
   ]
  },
  {
   "cell_type": "code",
   "execution_count": 38,
   "metadata": {},
   "outputs": [
    {
     "data": {
      "text/plain": [
       "[0, 1, 2, 4, 3]\n",
       "Categories (5, int64): [0 < 2 < 3 < 1 < 4]"
      ]
     },
     "execution_count": 38,
     "metadata": {},
     "output_type": "execute_result"
    }
   ],
   "source": [
    "xtrain['ISI_label_ordered'].unique()"
   ]
  },
  {
   "cell_type": "markdown",
   "metadata": {},
   "source": [
    "Deleting unwanted columns"
   ]
  },
  {
   "cell_type": "code",
   "execution_count": 39,
   "metadata": {},
   "outputs": [],
   "source": [
    "del xtrain['FFMC']\n",
    "del xtrain['ISI']\n",
    "del xtrain['day']\n",
    "del xtrain['X']\n",
    "del xtrain['Y']\n",
    "del xtrain['rain']"
   ]
  },
  {
   "cell_type": "code",
   "execution_count": 40,
   "metadata": {},
   "outputs": [],
   "source": [
    "del xtest['FFMC']\n",
    "del xtest['ISI']\n",
    "del xtest['day']\n",
    "del xtest['X']\n",
    "del xtest['Y']\n",
    "del xtest['rain']"
   ]
  },
  {
   "cell_type": "code",
   "execution_count": 41,
   "metadata": {},
   "outputs": [
    {
     "data": {
      "text/html": [
       "<div>\n",
       "<style scoped>\n",
       "    .dataframe tbody tr th:only-of-type {\n",
       "        vertical-align: middle;\n",
       "    }\n",
       "\n",
       "    .dataframe tbody tr th {\n",
       "        vertical-align: top;\n",
       "    }\n",
       "\n",
       "    .dataframe thead th {\n",
       "        text-align: right;\n",
       "    }\n",
       "</style>\n",
       "<table border=\"1\" class=\"dataframe\">\n",
       "  <thead>\n",
       "    <tr style=\"text-align: right;\">\n",
       "      <th></th>\n",
       "      <th>month</th>\n",
       "      <th>DMC</th>\n",
       "      <th>DC</th>\n",
       "      <th>temp</th>\n",
       "      <th>RH</th>\n",
       "      <th>wind</th>\n",
       "      <th>area</th>\n",
       "      <th>FFMC_q</th>\n",
       "      <th>FFMC_label_ordered</th>\n",
       "      <th>ISI_q</th>\n",
       "      <th>ISI_label_ordered</th>\n",
       "    </tr>\n",
       "  </thead>\n",
       "  <tbody>\n",
       "    <tr>\n",
       "      <th>442</th>\n",
       "      <td>apr</td>\n",
       "      <td>24.9</td>\n",
       "      <td>41.6</td>\n",
       "      <td>10.9</td>\n",
       "      <td>64</td>\n",
       "      <td>3.1</td>\n",
       "      <td>1.273529</td>\n",
       "      <td>(85.7, 89.7]</td>\n",
       "      <td>0</td>\n",
       "      <td>(3.999, 6.2]</td>\n",
       "      <td>0</td>\n",
       "    </tr>\n",
       "    <tr>\n",
       "      <th>202</th>\n",
       "      <td>feb</td>\n",
       "      <td>8.7</td>\n",
       "      <td>32.1</td>\n",
       "      <td>8.8</td>\n",
       "      <td>68</td>\n",
       "      <td>2.2</td>\n",
       "      <td>1.671561</td>\n",
       "      <td>(84.999, 85.7]</td>\n",
       "      <td>8</td>\n",
       "      <td>(3.999, 6.2]</td>\n",
       "      <td>0</td>\n",
       "    </tr>\n",
       "    <tr>\n",
       "      <th>276</th>\n",
       "      <td>dec</td>\n",
       "      <td>25.4</td>\n",
       "      <td>349.7</td>\n",
       "      <td>4.6</td>\n",
       "      <td>21</td>\n",
       "      <td>8.5</td>\n",
       "      <td>1.779622</td>\n",
       "      <td>(84.999, 85.7]</td>\n",
       "      <td>8</td>\n",
       "      <td>(3.999, 6.2]</td>\n",
       "      <td>0</td>\n",
       "    </tr>\n",
       "    <tr>\n",
       "      <th>120</th>\n",
       "      <td>aug</td>\n",
       "      <td>145.4</td>\n",
       "      <td>608.2</td>\n",
       "      <td>10.3</td>\n",
       "      <td>74</td>\n",
       "      <td>2.2</td>\n",
       "      <td>0.000000</td>\n",
       "      <td>(91.2, 91.6]</td>\n",
       "      <td>1</td>\n",
       "      <td>(9.2, 12.0]</td>\n",
       "      <td>1</td>\n",
       "    </tr>\n",
       "    <tr>\n",
       "      <th>150</th>\n",
       "      <td>jun</td>\n",
       "      <td>56.4</td>\n",
       "      <td>433.3</td>\n",
       "      <td>23.2</td>\n",
       "      <td>39</td>\n",
       "      <td>5.4</td>\n",
       "      <td>1.035403</td>\n",
       "      <td>(92.1, 92.5]</td>\n",
       "      <td>6</td>\n",
       "      <td>(6.2, 7.5]</td>\n",
       "      <td>2</td>\n",
       "    </tr>\n",
       "    <tr>\n",
       "      <th>...</th>\n",
       "      <td>...</td>\n",
       "      <td>...</td>\n",
       "      <td>...</td>\n",
       "      <td>...</td>\n",
       "      <td>...</td>\n",
       "      <td>...</td>\n",
       "      <td>...</td>\n",
       "      <td>...</td>\n",
       "      <td>...</td>\n",
       "      <td>...</td>\n",
       "      <td>...</td>\n",
       "    </tr>\n",
       "    <tr>\n",
       "      <th>98</th>\n",
       "      <td>aug</td>\n",
       "      <td>142.4</td>\n",
       "      <td>601.4</td>\n",
       "      <td>11.6</td>\n",
       "      <td>87</td>\n",
       "      <td>4.5</td>\n",
       "      <td>0.000000</td>\n",
       "      <td>(91.2, 91.6]</td>\n",
       "      <td>1</td>\n",
       "      <td>(9.2, 12.0]</td>\n",
       "      <td>1</td>\n",
       "    </tr>\n",
       "    <tr>\n",
       "      <th>322</th>\n",
       "      <td>sep</td>\n",
       "      <td>119.0</td>\n",
       "      <td>783.5</td>\n",
       "      <td>16.8</td>\n",
       "      <td>28</td>\n",
       "      <td>4.0</td>\n",
       "      <td>1.001992</td>\n",
       "      <td>(92.5, 93.1]</td>\n",
       "      <td>7</td>\n",
       "      <td>(6.2, 7.5]</td>\n",
       "      <td>2</td>\n",
       "    </tr>\n",
       "    <tr>\n",
       "      <th>382</th>\n",
       "      <td>aug</td>\n",
       "      <td>217.7</td>\n",
       "      <td>690.0</td>\n",
       "      <td>28.2</td>\n",
       "      <td>29</td>\n",
       "      <td>1.8</td>\n",
       "      <td>1.424228</td>\n",
       "      <td>(94.3, 96.2]</td>\n",
       "      <td>9</td>\n",
       "      <td>(12.0, 24.0]</td>\n",
       "      <td>4</td>\n",
       "    </tr>\n",
       "    <tr>\n",
       "      <th>365</th>\n",
       "      <td>sep</td>\n",
       "      <td>111.7</td>\n",
       "      <td>770.3</td>\n",
       "      <td>19.6</td>\n",
       "      <td>45</td>\n",
       "      <td>3.1</td>\n",
       "      <td>1.821110</td>\n",
       "      <td>(91.6, 92.1]</td>\n",
       "      <td>2</td>\n",
       "      <td>(6.2, 7.5]</td>\n",
       "      <td>2</td>\n",
       "    </tr>\n",
       "    <tr>\n",
       "      <th>510</th>\n",
       "      <td>aug</td>\n",
       "      <td>166.9</td>\n",
       "      <td>752.6</td>\n",
       "      <td>18.2</td>\n",
       "      <td>62</td>\n",
       "      <td>5.4</td>\n",
       "      <td>0.844683</td>\n",
       "      <td>(90.7, 91.2]</td>\n",
       "      <td>5</td>\n",
       "      <td>(6.2, 7.5]</td>\n",
       "      <td>2</td>\n",
       "    </tr>\n",
       "  </tbody>\n",
       "</table>\n",
       "<p>387 rows × 11 columns</p>\n",
       "</div>"
      ],
      "text/plain": [
       "    month    DMC     DC  temp  RH  wind      area          FFMC_q  \\\n",
       "442   apr   24.9   41.6  10.9  64   3.1  1.273529    (85.7, 89.7]   \n",
       "202   feb    8.7   32.1   8.8  68   2.2  1.671561  (84.999, 85.7]   \n",
       "276   dec   25.4  349.7   4.6  21   8.5  1.779622  (84.999, 85.7]   \n",
       "120   aug  145.4  608.2  10.3  74   2.2  0.000000    (91.2, 91.6]   \n",
       "150   jun   56.4  433.3  23.2  39   5.4  1.035403    (92.1, 92.5]   \n",
       "..    ...    ...    ...   ...  ..   ...       ...             ...   \n",
       "98    aug  142.4  601.4  11.6  87   4.5  0.000000    (91.2, 91.6]   \n",
       "322   sep  119.0  783.5  16.8  28   4.0  1.001992    (92.5, 93.1]   \n",
       "382   aug  217.7  690.0  28.2  29   1.8  1.424228    (94.3, 96.2]   \n",
       "365   sep  111.7  770.3  19.6  45   3.1  1.821110    (91.6, 92.1]   \n",
       "510   aug  166.9  752.6  18.2  62   5.4  0.844683    (90.7, 91.2]   \n",
       "\n",
       "    FFMC_label_ordered         ISI_q ISI_label_ordered  \n",
       "442                  0  (3.999, 6.2]                 0  \n",
       "202                  8  (3.999, 6.2]                 0  \n",
       "276                  8  (3.999, 6.2]                 0  \n",
       "120                  1   (9.2, 12.0]                 1  \n",
       "150                  6    (6.2, 7.5]                 2  \n",
       "..                 ...           ...               ...  \n",
       "98                   1   (9.2, 12.0]                 1  \n",
       "322                  7    (6.2, 7.5]                 2  \n",
       "382                  9  (12.0, 24.0]                 4  \n",
       "365                  2    (6.2, 7.5]                 2  \n",
       "510                  5    (6.2, 7.5]                 2  \n",
       "\n",
       "[387 rows x 11 columns]"
      ]
     },
     "execution_count": 41,
     "metadata": {},
     "output_type": "execute_result"
    }
   ],
   "source": [
    "xtrain"
   ]
  },
  {
   "cell_type": "code",
   "execution_count": 42,
   "metadata": {},
   "outputs": [
    {
     "name": "stderr",
     "output_type": "stream",
     "text": [
      "<ipython-input-42-423858589339>:4: SettingWithCopyWarning: \n",
      "A value is trying to be set on a copy of a slice from a DataFrame.\n",
      "Try using .loc[row_indexer,col_indexer] = value instead\n",
      "\n",
      "See the caveats in the documentation: https://pandas.pydata.org/pandas-docs/stable/user_guide/indexing.html#returning-a-view-versus-a-copy\n",
      "  xtrain['month'] = encoder.fit_transform(xtrain['month'])\n",
      "<ipython-input-42-423858589339>:5: SettingWithCopyWarning: \n",
      "A value is trying to be set on a copy of a slice from a DataFrame.\n",
      "Try using .loc[row_indexer,col_indexer] = value instead\n",
      "\n",
      "See the caveats in the documentation: https://pandas.pydata.org/pandas-docs/stable/user_guide/indexing.html#returning-a-view-versus-a-copy\n",
      "  xtest['month'] = encoder.fit_transform(xtest['month'])\n"
     ]
    }
   ],
   "source": [
    "from sklearn.preprocessing import LabelEncoder\n",
    "encoder = LabelEncoder()\n",
    "# transform data\n",
    "xtrain['month'] = encoder.fit_transform(xtrain['month'])\n",
    "xtest['month'] = encoder.fit_transform(xtest['month'])"
   ]
  },
  {
   "cell_type": "code",
   "execution_count": 43,
   "metadata": {},
   "outputs": [
    {
     "data": {
      "text/html": [
       "<div>\n",
       "<style scoped>\n",
       "    .dataframe tbody tr th:only-of-type {\n",
       "        vertical-align: middle;\n",
       "    }\n",
       "\n",
       "    .dataframe tbody tr th {\n",
       "        vertical-align: top;\n",
       "    }\n",
       "\n",
       "    .dataframe thead th {\n",
       "        text-align: right;\n",
       "    }\n",
       "</style>\n",
       "<table border=\"1\" class=\"dataframe\">\n",
       "  <thead>\n",
       "    <tr style=\"text-align: right;\">\n",
       "      <th></th>\n",
       "      <th>month</th>\n",
       "      <th>DMC</th>\n",
       "      <th>DC</th>\n",
       "      <th>temp</th>\n",
       "      <th>RH</th>\n",
       "      <th>wind</th>\n",
       "      <th>area</th>\n",
       "      <th>FFMC_q</th>\n",
       "      <th>FFMC_label_ordered</th>\n",
       "      <th>ISI_q</th>\n",
       "      <th>ISI_label_ordered</th>\n",
       "    </tr>\n",
       "  </thead>\n",
       "  <tbody>\n",
       "    <tr>\n",
       "      <th>442</th>\n",
       "      <td>0</td>\n",
       "      <td>24.9</td>\n",
       "      <td>41.6</td>\n",
       "      <td>10.9</td>\n",
       "      <td>64</td>\n",
       "      <td>3.1</td>\n",
       "      <td>1.273529</td>\n",
       "      <td>(85.7, 89.7]</td>\n",
       "      <td>0</td>\n",
       "      <td>(3.999, 6.2]</td>\n",
       "      <td>0</td>\n",
       "    </tr>\n",
       "    <tr>\n",
       "      <th>202</th>\n",
       "      <td>3</td>\n",
       "      <td>8.7</td>\n",
       "      <td>32.1</td>\n",
       "      <td>8.8</td>\n",
       "      <td>68</td>\n",
       "      <td>2.2</td>\n",
       "      <td>1.671561</td>\n",
       "      <td>(84.999, 85.7]</td>\n",
       "      <td>8</td>\n",
       "      <td>(3.999, 6.2]</td>\n",
       "      <td>0</td>\n",
       "    </tr>\n",
       "    <tr>\n",
       "      <th>276</th>\n",
       "      <td>2</td>\n",
       "      <td>25.4</td>\n",
       "      <td>349.7</td>\n",
       "      <td>4.6</td>\n",
       "      <td>21</td>\n",
       "      <td>8.5</td>\n",
       "      <td>1.779622</td>\n",
       "      <td>(84.999, 85.7]</td>\n",
       "      <td>8</td>\n",
       "      <td>(3.999, 6.2]</td>\n",
       "      <td>0</td>\n",
       "    </tr>\n",
       "    <tr>\n",
       "      <th>120</th>\n",
       "      <td>1</td>\n",
       "      <td>145.4</td>\n",
       "      <td>608.2</td>\n",
       "      <td>10.3</td>\n",
       "      <td>74</td>\n",
       "      <td>2.2</td>\n",
       "      <td>0.000000</td>\n",
       "      <td>(91.2, 91.6]</td>\n",
       "      <td>1</td>\n",
       "      <td>(9.2, 12.0]</td>\n",
       "      <td>1</td>\n",
       "    </tr>\n",
       "    <tr>\n",
       "      <th>150</th>\n",
       "      <td>6</td>\n",
       "      <td>56.4</td>\n",
       "      <td>433.3</td>\n",
       "      <td>23.2</td>\n",
       "      <td>39</td>\n",
       "      <td>5.4</td>\n",
       "      <td>1.035403</td>\n",
       "      <td>(92.1, 92.5]</td>\n",
       "      <td>6</td>\n",
       "      <td>(6.2, 7.5]</td>\n",
       "      <td>2</td>\n",
       "    </tr>\n",
       "    <tr>\n",
       "      <th>...</th>\n",
       "      <td>...</td>\n",
       "      <td>...</td>\n",
       "      <td>...</td>\n",
       "      <td>...</td>\n",
       "      <td>...</td>\n",
       "      <td>...</td>\n",
       "      <td>...</td>\n",
       "      <td>...</td>\n",
       "      <td>...</td>\n",
       "      <td>...</td>\n",
       "      <td>...</td>\n",
       "    </tr>\n",
       "    <tr>\n",
       "      <th>98</th>\n",
       "      <td>1</td>\n",
       "      <td>142.4</td>\n",
       "      <td>601.4</td>\n",
       "      <td>11.6</td>\n",
       "      <td>87</td>\n",
       "      <td>4.5</td>\n",
       "      <td>0.000000</td>\n",
       "      <td>(91.2, 91.6]</td>\n",
       "      <td>1</td>\n",
       "      <td>(9.2, 12.0]</td>\n",
       "      <td>1</td>\n",
       "    </tr>\n",
       "    <tr>\n",
       "      <th>322</th>\n",
       "      <td>11</td>\n",
       "      <td>119.0</td>\n",
       "      <td>783.5</td>\n",
       "      <td>16.8</td>\n",
       "      <td>28</td>\n",
       "      <td>4.0</td>\n",
       "      <td>1.001992</td>\n",
       "      <td>(92.5, 93.1]</td>\n",
       "      <td>7</td>\n",
       "      <td>(6.2, 7.5]</td>\n",
       "      <td>2</td>\n",
       "    </tr>\n",
       "    <tr>\n",
       "      <th>382</th>\n",
       "      <td>1</td>\n",
       "      <td>217.7</td>\n",
       "      <td>690.0</td>\n",
       "      <td>28.2</td>\n",
       "      <td>29</td>\n",
       "      <td>1.8</td>\n",
       "      <td>1.424228</td>\n",
       "      <td>(94.3, 96.2]</td>\n",
       "      <td>9</td>\n",
       "      <td>(12.0, 24.0]</td>\n",
       "      <td>4</td>\n",
       "    </tr>\n",
       "    <tr>\n",
       "      <th>365</th>\n",
       "      <td>11</td>\n",
       "      <td>111.7</td>\n",
       "      <td>770.3</td>\n",
       "      <td>19.6</td>\n",
       "      <td>45</td>\n",
       "      <td>3.1</td>\n",
       "      <td>1.821110</td>\n",
       "      <td>(91.6, 92.1]</td>\n",
       "      <td>2</td>\n",
       "      <td>(6.2, 7.5]</td>\n",
       "      <td>2</td>\n",
       "    </tr>\n",
       "    <tr>\n",
       "      <th>510</th>\n",
       "      <td>1</td>\n",
       "      <td>166.9</td>\n",
       "      <td>752.6</td>\n",
       "      <td>18.2</td>\n",
       "      <td>62</td>\n",
       "      <td>5.4</td>\n",
       "      <td>0.844683</td>\n",
       "      <td>(90.7, 91.2]</td>\n",
       "      <td>5</td>\n",
       "      <td>(6.2, 7.5]</td>\n",
       "      <td>2</td>\n",
       "    </tr>\n",
       "  </tbody>\n",
       "</table>\n",
       "<p>387 rows × 11 columns</p>\n",
       "</div>"
      ],
      "text/plain": [
       "     month    DMC     DC  temp  RH  wind      area          FFMC_q  \\\n",
       "442      0   24.9   41.6  10.9  64   3.1  1.273529    (85.7, 89.7]   \n",
       "202      3    8.7   32.1   8.8  68   2.2  1.671561  (84.999, 85.7]   \n",
       "276      2   25.4  349.7   4.6  21   8.5  1.779622  (84.999, 85.7]   \n",
       "120      1  145.4  608.2  10.3  74   2.2  0.000000    (91.2, 91.6]   \n",
       "150      6   56.4  433.3  23.2  39   5.4  1.035403    (92.1, 92.5]   \n",
       "..     ...    ...    ...   ...  ..   ...       ...             ...   \n",
       "98       1  142.4  601.4  11.6  87   4.5  0.000000    (91.2, 91.6]   \n",
       "322     11  119.0  783.5  16.8  28   4.0  1.001992    (92.5, 93.1]   \n",
       "382      1  217.7  690.0  28.2  29   1.8  1.424228    (94.3, 96.2]   \n",
       "365     11  111.7  770.3  19.6  45   3.1  1.821110    (91.6, 92.1]   \n",
       "510      1  166.9  752.6  18.2  62   5.4  0.844683    (90.7, 91.2]   \n",
       "\n",
       "    FFMC_label_ordered         ISI_q ISI_label_ordered  \n",
       "442                  0  (3.999, 6.2]                 0  \n",
       "202                  8  (3.999, 6.2]                 0  \n",
       "276                  8  (3.999, 6.2]                 0  \n",
       "120                  1   (9.2, 12.0]                 1  \n",
       "150                  6    (6.2, 7.5]                 2  \n",
       "..                 ...           ...               ...  \n",
       "98                   1   (9.2, 12.0]                 1  \n",
       "322                  7    (6.2, 7.5]                 2  \n",
       "382                  9  (12.0, 24.0]                 4  \n",
       "365                  2    (6.2, 7.5]                 2  \n",
       "510                  5    (6.2, 7.5]                 2  \n",
       "\n",
       "[387 rows x 11 columns]"
      ]
     },
     "execution_count": 43,
     "metadata": {},
     "output_type": "execute_result"
    }
   ],
   "source": [
    "xtrain"
   ]
  },
  {
   "cell_type": "markdown",
   "metadata": {},
   "source": [
    "## Scaling"
   ]
  },
  {
   "cell_type": "code",
   "execution_count": 44,
   "metadata": {},
   "outputs": [
    {
     "data": {
      "text/plain": [
       "['month',\n",
       " 'DMC',\n",
       " 'DC',\n",
       " 'temp',\n",
       " 'RH',\n",
       " 'wind',\n",
       " 'FFMC_label_ordered',\n",
       " 'ISI_label_ordered']"
      ]
     },
     "execution_count": 44,
     "metadata": {},
     "output_type": "execute_result"
    }
   ],
   "source": [
    "training_vars = [var for var in xtrain.columns if var not in ['FFMC_q', 'ISI_q','area']]\n",
    "training_vars"
   ]
  },
  {
   "cell_type": "code",
   "execution_count": 45,
   "metadata": {},
   "outputs": [
    {
     "data": {
      "text/html": [
       "<div>\n",
       "<style scoped>\n",
       "    .dataframe tbody tr th:only-of-type {\n",
       "        vertical-align: middle;\n",
       "    }\n",
       "\n",
       "    .dataframe tbody tr th {\n",
       "        vertical-align: top;\n",
       "    }\n",
       "\n",
       "    .dataframe thead th {\n",
       "        text-align: right;\n",
       "    }\n",
       "</style>\n",
       "<table border=\"1\" class=\"dataframe\">\n",
       "  <thead>\n",
       "    <tr style=\"text-align: right;\">\n",
       "      <th></th>\n",
       "      <th>month</th>\n",
       "      <th>DMC</th>\n",
       "      <th>DC</th>\n",
       "      <th>temp</th>\n",
       "      <th>RH</th>\n",
       "      <th>wind</th>\n",
       "      <th>FFMC_label_ordered</th>\n",
       "      <th>ISI_label_ordered</th>\n",
       "    </tr>\n",
       "  </thead>\n",
       "  <tbody>\n",
       "    <tr>\n",
       "      <th>442</th>\n",
       "      <td>0</td>\n",
       "      <td>24.9</td>\n",
       "      <td>41.6</td>\n",
       "      <td>10.9</td>\n",
       "      <td>64</td>\n",
       "      <td>3.1</td>\n",
       "      <td>0</td>\n",
       "      <td>0</td>\n",
       "    </tr>\n",
       "    <tr>\n",
       "      <th>202</th>\n",
       "      <td>3</td>\n",
       "      <td>8.7</td>\n",
       "      <td>32.1</td>\n",
       "      <td>8.8</td>\n",
       "      <td>68</td>\n",
       "      <td>2.2</td>\n",
       "      <td>8</td>\n",
       "      <td>0</td>\n",
       "    </tr>\n",
       "    <tr>\n",
       "      <th>276</th>\n",
       "      <td>2</td>\n",
       "      <td>25.4</td>\n",
       "      <td>349.7</td>\n",
       "      <td>4.6</td>\n",
       "      <td>21</td>\n",
       "      <td>8.5</td>\n",
       "      <td>8</td>\n",
       "      <td>0</td>\n",
       "    </tr>\n",
       "    <tr>\n",
       "      <th>120</th>\n",
       "      <td>1</td>\n",
       "      <td>145.4</td>\n",
       "      <td>608.2</td>\n",
       "      <td>10.3</td>\n",
       "      <td>74</td>\n",
       "      <td>2.2</td>\n",
       "      <td>1</td>\n",
       "      <td>1</td>\n",
       "    </tr>\n",
       "    <tr>\n",
       "      <th>150</th>\n",
       "      <td>6</td>\n",
       "      <td>56.4</td>\n",
       "      <td>433.3</td>\n",
       "      <td>23.2</td>\n",
       "      <td>39</td>\n",
       "      <td>5.4</td>\n",
       "      <td>6</td>\n",
       "      <td>2</td>\n",
       "    </tr>\n",
       "    <tr>\n",
       "      <th>...</th>\n",
       "      <td>...</td>\n",
       "      <td>...</td>\n",
       "      <td>...</td>\n",
       "      <td>...</td>\n",
       "      <td>...</td>\n",
       "      <td>...</td>\n",
       "      <td>...</td>\n",
       "      <td>...</td>\n",
       "    </tr>\n",
       "    <tr>\n",
       "      <th>98</th>\n",
       "      <td>1</td>\n",
       "      <td>142.4</td>\n",
       "      <td>601.4</td>\n",
       "      <td>11.6</td>\n",
       "      <td>87</td>\n",
       "      <td>4.5</td>\n",
       "      <td>1</td>\n",
       "      <td>1</td>\n",
       "    </tr>\n",
       "    <tr>\n",
       "      <th>322</th>\n",
       "      <td>11</td>\n",
       "      <td>119.0</td>\n",
       "      <td>783.5</td>\n",
       "      <td>16.8</td>\n",
       "      <td>28</td>\n",
       "      <td>4.0</td>\n",
       "      <td>7</td>\n",
       "      <td>2</td>\n",
       "    </tr>\n",
       "    <tr>\n",
       "      <th>382</th>\n",
       "      <td>1</td>\n",
       "      <td>217.7</td>\n",
       "      <td>690.0</td>\n",
       "      <td>28.2</td>\n",
       "      <td>29</td>\n",
       "      <td>1.8</td>\n",
       "      <td>9</td>\n",
       "      <td>4</td>\n",
       "    </tr>\n",
       "    <tr>\n",
       "      <th>365</th>\n",
       "      <td>11</td>\n",
       "      <td>111.7</td>\n",
       "      <td>770.3</td>\n",
       "      <td>19.6</td>\n",
       "      <td>45</td>\n",
       "      <td>3.1</td>\n",
       "      <td>2</td>\n",
       "      <td>2</td>\n",
       "    </tr>\n",
       "    <tr>\n",
       "      <th>510</th>\n",
       "      <td>1</td>\n",
       "      <td>166.9</td>\n",
       "      <td>752.6</td>\n",
       "      <td>18.2</td>\n",
       "      <td>62</td>\n",
       "      <td>5.4</td>\n",
       "      <td>5</td>\n",
       "      <td>2</td>\n",
       "    </tr>\n",
       "  </tbody>\n",
       "</table>\n",
       "<p>387 rows × 8 columns</p>\n",
       "</div>"
      ],
      "text/plain": [
       "     month    DMC     DC  temp  RH  wind FFMC_label_ordered ISI_label_ordered\n",
       "442      0   24.9   41.6  10.9  64   3.1                  0                 0\n",
       "202      3    8.7   32.1   8.8  68   2.2                  8                 0\n",
       "276      2   25.4  349.7   4.6  21   8.5                  8                 0\n",
       "120      1  145.4  608.2  10.3  74   2.2                  1                 1\n",
       "150      6   56.4  433.3  23.2  39   5.4                  6                 2\n",
       "..     ...    ...    ...   ...  ..   ...                ...               ...\n",
       "98       1  142.4  601.4  11.6  87   4.5                  1                 1\n",
       "322     11  119.0  783.5  16.8  28   4.0                  7                 2\n",
       "382      1  217.7  690.0  28.2  29   1.8                  9                 4\n",
       "365     11  111.7  770.3  19.6  45   3.1                  2                 2\n",
       "510      1  166.9  752.6  18.2  62   5.4                  5                 2\n",
       "\n",
       "[387 rows x 8 columns]"
      ]
     },
     "execution_count": 45,
     "metadata": {},
     "output_type": "execute_result"
    }
   ],
   "source": [
    "xtrain[training_vars]"
   ]
  },
  {
   "cell_type": "code",
   "execution_count": 46,
   "metadata": {},
   "outputs": [],
   "source": [
    "from sklearn.preprocessing import StandardScaler\n",
    "scaler = StandardScaler()"
   ]
  },
  {
   "cell_type": "code",
   "execution_count": 47,
   "metadata": {},
   "outputs": [
    {
     "data": {
      "text/plain": [
       "array([[-1.31981853, -1.32318052, -1.9881968 , ..., -0.54745387,\n",
       "        -1.49766507, -1.41348726],\n",
       "       [-0.6375793 , -1.57704557, -2.02570265, ..., -1.04621972,\n",
       "         1.31932828, -1.41348726],\n",
       "       [-0.86499238, -1.31534518, -0.7718228 , ...,  2.4451412 ,\n",
       "         1.31932828, -1.41348726],\n",
       "       ...,\n",
       "       [-1.09240545,  1.69812689,  0.57167631, ..., -1.26789342,\n",
       "         1.67145245,  1.38814946],\n",
       "       [ 1.18172532,  0.03703464,  0.88869946, ..., -0.54745387,\n",
       "        -0.79341673, -0.0126689 ],\n",
       "       [-1.09240545,  0.90205626,  0.81882013, ...,  0.72716996,\n",
       "         0.26295577, -0.0126689 ]])"
      ]
     },
     "execution_count": 47,
     "metadata": {},
     "output_type": "execute_result"
    }
   ],
   "source": [
    "scaler.fit_transform(xtrain[training_vars])"
   ]
  },
  {
   "cell_type": "code",
   "execution_count": 48,
   "metadata": {},
   "outputs": [
    {
     "name": "stdout",
     "output_type": "stream",
     "text": [
      "<class 'pandas.core.frame.DataFrame'>\n",
      "Int64Index: 387 entries, 442 to 510\n",
      "Data columns (total 11 columns):\n",
      " #   Column              Non-Null Count  Dtype   \n",
      "---  ------              --------------  -----   \n",
      " 0   month               387 non-null    int32   \n",
      " 1   DMC                 387 non-null    float64 \n",
      " 2   DC                  387 non-null    float64 \n",
      " 3   temp                387 non-null    float64 \n",
      " 4   RH                  387 non-null    int64   \n",
      " 5   wind                387 non-null    float64 \n",
      " 6   area                387 non-null    float64 \n",
      " 7   FFMC_q              387 non-null    category\n",
      " 8   FFMC_label_ordered  387 non-null    category\n",
      " 9   ISI_q               387 non-null    category\n",
      " 10  ISI_label_ordered   387 non-null    category\n",
      "dtypes: category(4), float64(5), int32(1), int64(1)\n",
      "memory usage: 25.5 KB\n"
     ]
    }
   ],
   "source": [
    "xtrain.info()"
   ]
  },
  {
   "cell_type": "code",
   "execution_count": 49,
   "metadata": {},
   "outputs": [
    {
     "name": "stderr",
     "output_type": "stream",
     "text": [
      "<ipython-input-49-14b9444b42e4>:1: SettingWithCopyWarning: \n",
      "A value is trying to be set on a copy of a slice from a DataFrame.\n",
      "Try using .loc[row_indexer,col_indexer] = value instead\n",
      "\n",
      "See the caveats in the documentation: https://pandas.pydata.org/pandas-docs/stable/user_guide/indexing.html#returning-a-view-versus-a-copy\n",
      "  xtrain['FFMC_q'] =xtrain['FFMC_q'].astype('category').cat.codes\n"
     ]
    }
   ],
   "source": [
    "xtrain['FFMC_q'] =xtrain['FFMC_q'].astype('category').cat.codes"
   ]
  },
  {
   "cell_type": "code",
   "execution_count": 50,
   "metadata": {},
   "outputs": [
    {
     "name": "stderr",
     "output_type": "stream",
     "text": [
      "<ipython-input-50-2e23e0be8b1f>:1: SettingWithCopyWarning: \n",
      "A value is trying to be set on a copy of a slice from a DataFrame.\n",
      "Try using .loc[row_indexer,col_indexer] = value instead\n",
      "\n",
      "See the caveats in the documentation: https://pandas.pydata.org/pandas-docs/stable/user_guide/indexing.html#returning-a-view-versus-a-copy\n",
      "  xtrain['FFMC_label_ordered'] =xtrain['FFMC_label_ordered'].astype('category').cat.codes\n",
      "<ipython-input-50-2e23e0be8b1f>:2: SettingWithCopyWarning: \n",
      "A value is trying to be set on a copy of a slice from a DataFrame.\n",
      "Try using .loc[row_indexer,col_indexer] = value instead\n",
      "\n",
      "See the caveats in the documentation: https://pandas.pydata.org/pandas-docs/stable/user_guide/indexing.html#returning-a-view-versus-a-copy\n",
      "  xtrain['ISI_q'] =xtrain['ISI_q'].astype('category').cat.codes\n"
     ]
    }
   ],
   "source": [
    "xtrain['FFMC_label_ordered'] =xtrain['FFMC_label_ordered'].astype('category').cat.codes\n",
    "xtrain['ISI_q'] =xtrain['ISI_q'].astype('category').cat.codes"
   ]
  },
  {
   "cell_type": "code",
   "execution_count": 51,
   "metadata": {},
   "outputs": [
    {
     "name": "stderr",
     "output_type": "stream",
     "text": [
      "<ipython-input-51-711ecd4385c9>:1: SettingWithCopyWarning: \n",
      "A value is trying to be set on a copy of a slice from a DataFrame.\n",
      "Try using .loc[row_indexer,col_indexer] = value instead\n",
      "\n",
      "See the caveats in the documentation: https://pandas.pydata.org/pandas-docs/stable/user_guide/indexing.html#returning-a-view-versus-a-copy\n",
      "  xtrain['ISI_label_ordered'] =xtrain['ISI_label_ordered'].astype('category').cat.codes\n"
     ]
    }
   ],
   "source": [
    "xtrain['ISI_label_ordered'] =xtrain['ISI_label_ordered'].astype('category').cat.codes"
   ]
  },
  {
   "cell_type": "code",
   "execution_count": 52,
   "metadata": {},
   "outputs": [
    {
     "name": "stdout",
     "output_type": "stream",
     "text": [
      "<class 'pandas.core.frame.DataFrame'>\n",
      "Int64Index: 387 entries, 442 to 510\n",
      "Data columns (total 11 columns):\n",
      " #   Column              Non-Null Count  Dtype  \n",
      "---  ------              --------------  -----  \n",
      " 0   month               387 non-null    int32  \n",
      " 1   DMC                 387 non-null    float64\n",
      " 2   DC                  387 non-null    float64\n",
      " 3   temp                387 non-null    float64\n",
      " 4   RH                  387 non-null    int64  \n",
      " 5   wind                387 non-null    float64\n",
      " 6   area                387 non-null    float64\n",
      " 7   FFMC_q              387 non-null    int8   \n",
      " 8   FFMC_label_ordered  387 non-null    int8   \n",
      " 9   ISI_q               387 non-null    int8   \n",
      " 10  ISI_label_ordered   387 non-null    int8   \n",
      "dtypes: float64(5), int32(1), int64(1), int8(4)\n",
      "memory usage: 24.2 KB\n"
     ]
    }
   ],
   "source": [
    "xtrain.info()"
   ]
  },
  {
   "cell_type": "code",
   "execution_count": 53,
   "metadata": {},
   "outputs": [
    {
     "name": "stderr",
     "output_type": "stream",
     "text": [
      "c:\\users\\gokul\\appdata\\local\\programs\\python\\python38\\lib\\site-packages\\pandas\\core\\frame.py:3069: SettingWithCopyWarning: \n",
      "A value is trying to be set on a copy of a slice from a DataFrame.\n",
      "Try using .loc[row_indexer,col_indexer] = value instead\n",
      "\n",
      "See the caveats in the documentation: https://pandas.pydata.org/pandas-docs/stable/user_guide/indexing.html#returning-a-view-versus-a-copy\n",
      "  self[k1] = value[k2]\n",
      "c:\\users\\gokul\\appdata\\local\\programs\\python\\python38\\lib\\site-packages\\numpy\\lib\\nanfunctions.py:1111: RuntimeWarning: Mean of empty slice\n",
      "  return np.nanmean(a, axis, out=out, keepdims=keepdims)\n"
     ]
    }
   ],
   "source": [
    "xtest[xtest.columns] = xtest[xtest.columns].apply(pd.to_numeric, errors='coerce')\n",
    "\n",
    "xtest = xtest.fillna(xtest.median())"
   ]
  },
  {
   "cell_type": "markdown",
   "metadata": {},
   "source": [
    "## Modeling"
   ]
  },
  {
   "cell_type": "code",
   "execution_count": 54,
   "metadata": {},
   "outputs": [
    {
     "data": {
      "text/plain": [
       "XGBRegressor(base_score=0.5, booster='gbtree', colsample_bylevel=1,\n",
       "             colsample_bynode=1, colsample_bytree=1, gamma=0, gpu_id=-1,\n",
       "             importance_type='gain', interaction_constraints='',\n",
       "             learning_rate=0.300000012, max_delta_step=0, max_depth=6,\n",
       "             min_child_weight=1, missing=nan, monotone_constraints='()',\n",
       "             n_estimators=100, n_jobs=8, num_parallel_tree=1, random_state=0,\n",
       "             reg_alpha=0, reg_lambda=1, scale_pos_weight=1, subsample=1,\n",
       "             tree_method='exact', validate_parameters=1, verbosity=None)"
      ]
     },
     "execution_count": 54,
     "metadata": {},
     "output_type": "execute_result"
    },
    {
     "name": "stdout",
     "output_type": "stream",
     "text": [
      "xgb train mse: 0.029163077579129566\n",
      "xgb test mse: 0.8305047326074118\n"
     ]
    }
   ],
   "source": [
    "import xgboost as xgb\n",
    "from sklearn.metrics import mean_squared_error\n",
    "xgb_model = xgb.XGBRegressor()\n",
    "\n",
    "eval_set = [(xtest[training_vars], ytest)]\n",
    "xgb_model.fit(xtrain[training_vars], ytrain, eval_set=eval_set, verbose=False)\n",
    "\n",
    "pred = xgb_model.predict(xtrain[training_vars])\n",
    "print('xgb train mse: {}'.format(mean_squared_error(ytrain, pred)))\n",
    "pred = xgb_model.predict(xtest[training_vars])\n",
    "print('xgb test mse: {}'.format(mean_squared_error(ytest, pred)))"
   ]
  },
  {
   "cell_type": "code",
   "execution_count": 55,
   "metadata": {},
   "outputs": [
    {
     "name": "stdout",
     "output_type": "stream",
     "text": [
      "month [ 6  4  5  9 10  2  1  3  7  0  8] int32\n",
      "DMC [ 49.5   1.1 183.1  46.5 124.1  27.2  35.4  85.3 263.1  96.7 111.7 104.2\n",
      "   6.8  97.9  94.3  32.8  78.5 112.4 217.7  18.5 133.3 129.5 167.6 108.4\n",
      "  73.2 235.1  48.3 290.  181.3  26.4 178.  122.3  99.   96.2  13.2  25.7\n",
      " 142.4 121.1 207.  248.4  23.9  75.6 135.7  68.6  88.  108.3  99.6 191.4\n",
      " 166.9 180.4 141.2 102.3 139.4   9.1 276.3 126.5 147.8 141.3  50.1  33.3\n",
      " 147.3 145.4 137.  175.5  25.4 105.8  15.6  70.8 132.3 131.7 117.9  26.7\n",
      "  56.7  52.2 231.1 170.9  90.4  89.5 160.   39.7 130.1 141.1 114.4 169.7\n",
      "  96.9 266.2  92.1 101.3 119.   80.9  90.  114.3   7.3 227.  135.5 158.\n",
      "  91.3  51.3  26.2] float64\n",
      "DC [297.7 171.4 437.7 691.8 680.7 353.5 669.1 488.  795.9 750.5 770.3 474.9\n",
      "  26.6 542.  744.4 664.2 724.3 573.  690.   41.1 699.6 692.6 684.4 764.\n",
      " 713.  723.1 313.4 855.3 613.  352.  605.3 589.9 745.3 739.4  43.   67.6\n",
      " 601.4 674.4 672.6 753.8  64.7 718.3 586.7 355.2 698.6 647.1 631.2 635.9\n",
      " 752.6 430.8 713.9 751.5 594.2  55.2 395.  825.1 686.5 377.2 605.8 100.4\n",
      "  77.5 614.5 721.4 706.4 661.8  73.7 758.1  48.3 665.3 812.1 607.1 668.\n",
      " 352.6 665.6 103.8 715.1 692.3 609.6 290.8 567.2  86.6 807.1 629.1 560.\n",
      " 411.8 624.2 803.3 442.1 423.4 783.5 685.2 704.4 661.3  52.8 706.7 578.8\n",
      " 596.3 633.6 738.1 102.2  94.3] float64\n",
      "temp [28.   5.2 12.6 20.6 16.9  4.8 21.7 22.2 29.3 15.7 24.3  6.7 28.3 16.8\n",
      " 19.1 21.2 11.2 30.8 21.9 17.6 21.8 22.7 19.3 21.6 20.9 18.  10.3 24.8\n",
      "  5.1 23.3 15.4 19.2 12.3 14.9 18.2 17.7 26.8 18.8 20.4 11.8 14.  20.8\n",
      " 22.8 17.4 25.3 19.9 15.8 18.5 22.9 23.7  5.8 27.2 21.3 19.6 26.4 15.1\n",
      " 15.6 14.4 28.6 27.7 32.6 28.7 21.5 16.  18.6 12.4 22.6 16.4 19.4 19.\n",
      "  2.2 27.8 16.6 25.5 11.  18.9 23.5 22.1 17.9 16.1 16.2 23.  20.1 12.2\n",
      " 30.2 23.4 18.4 25.9 21.4 23.2 17.8 18.3 14.7 24.2 30.6 32.4 24.1 20.7\n",
      " 10.6  8.2 15.2] float64\n",
      "RH [ 34 100  90  24  60  57  29  27  55  51  30  79  32  47  84  19  41  35\n",
      "  46  53  38  33  66  42  78  36  61  40  43  25  56  39  44  50  73  48\n",
      "  54  28  64  26  15  45  59  49  58  37  82  96  31] int64\n",
      "wind [4.5 0.9 7.6 5.4 1.3 8.5 3.6 2.2 1.8 3.1 4.  4.9 2.7 6.7 5.8 6.3 7.2] float64\n",
      "area [1.5217315  0.         1.96745812 1.55115525 1.44500087 1.89736859\n",
      " 1.54663792 1.66092268 1.40320066 1.26970488 1.40883002 1.20777664\n",
      " 1.47745592 1.45584638 1.495479   1.63066917 1.72649399 0.81519311\n",
      " 1.78850524 1.24985597 1.40009162 1.44774283 1.58899265 1.15212396\n",
      " 1.30466304 2.74156829 0.88405392 2.92164182 1.4740827  1.06342724\n",
      " 1.0136237  1.36218022 1.51571657 2.41854182 1.61333306 1.11970221\n",
      " 2.34399977 1.74972086 1.69497596 1.09993032 1.22601548 2.07513814\n",
      " 1.44865222 1.39219586 1.62468543 0.70160033 1.29485243 1.56104688\n",
      " 1.04227188 1.74110113 1.21885055 1.27200508 1.11842691 1.43570749\n",
      " 1.09301197 1.22423993 1.10264959 1.17186735 1.91864519 2.02866638\n",
      " 1.87879884 1.95748009 1.54064985 1.15662898 1.97671404 1.14172194] float64\n",
      "FFMC_q [nan] float64\n",
      "FFMC_label_ordered [3. 4. 5. 7. 6. 0. 2. 1. 9.] float64\n",
      "ISI_q [nan] float64\n",
      "ISI_label_ordered [4. 3. 2. 1.] float64\n"
     ]
    }
   ],
   "source": [
    "for col in xtest.columns:\n",
    "    print(col, xtest[col].unique(), xtest[col].dtype)"
   ]
  },
  {
   "cell_type": "code",
   "execution_count": 56,
   "metadata": {},
   "outputs": [
    {
     "data": {
      "text/plain": [
       "LinearRegression()"
      ]
     },
     "execution_count": 56,
     "metadata": {},
     "output_type": "execute_result"
    },
    {
     "name": "stdout",
     "output_type": "stream",
     "text": [
      "Mean Squared Error :  0.6587332520534003\n",
      "r2 Score :  -0.015506285036039236\n"
     ]
    }
   ],
   "source": [
    "# Linear Regression Model\n",
    "from sklearn.metrics import r2_score\n",
    "from sklearn.linear_model import LinearRegression\n",
    "model = LinearRegression()\n",
    "model.fit(xtrain[training_vars], ytrain)\n",
    "\n",
    "# Predictions\n",
    "predictions = model.predict(xtest[training_vars])\n",
    "\n",
    "# Scores\n",
    "print (\"Mean Squared Error : \", mean_squared_error(ytest, predictions))\n",
    "print (\"r2 Score : \", r2_score(ytest, predictions))"
   ]
  },
  {
   "cell_type": "code",
   "execution_count": 57,
   "metadata": {},
   "outputs": [
    {
     "data": {
      "text/plain": [
       "RandomForestRegressor()"
      ]
     },
     "execution_count": 57,
     "metadata": {},
     "output_type": "execute_result"
    },
    {
     "name": "stdout",
     "output_type": "stream",
     "text": [
      "rf train mse: 0.1277528444121123\n",
      "rf test mse: 0.7036507569456255\n"
     ]
    }
   ],
   "source": [
    "from sklearn.linear_model import LinearRegression, Lasso\n",
    "from sklearn.ensemble import RandomForestRegressor\n",
    "from sklearn.svm import SVR\n",
    "rf_model = RandomForestRegressor()\n",
    "rf_model.fit(xtrain[training_vars], ytrain)\n",
    "\n",
    "pred = rf_model.predict(xtrain[training_vars])\n",
    "print('rf train mse: {}'.format(mean_squared_error(ytrain, pred)))\n",
    "pred = rf_model.predict(xtest[training_vars])\n",
    "print('rf test mse: {}'.format(mean_squared_error(ytest, pred)))"
   ]
  },
  {
   "cell_type": "code",
   "execution_count": 58,
   "metadata": {},
   "outputs": [
    {
     "data": {
      "text/plain": [
       "SVR()"
      ]
     },
     "execution_count": 58,
     "metadata": {},
     "output_type": "execute_result"
    },
    {
     "name": "stdout",
     "output_type": "stream",
     "text": [
      "SVR train mse: 0.6012980568023085\n",
      "SVR test mse: 0.7405316795412915\n"
     ]
    },
    {
     "name": "stderr",
     "output_type": "stream",
     "text": [
      "c:\\users\\gokul\\appdata\\local\\programs\\python\\python38\\lib\\site-packages\\pandas\\core\\frame.py:4383: SettingWithCopyWarning: \n",
      "A value is trying to be set on a copy of a slice from a DataFrame\n",
      "\n",
      "See the caveats in the documentation: https://pandas.pydata.org/pandas-docs/stable/user_guide/indexing.html#returning-a-view-versus-a-copy\n",
      "  return super().replace(\n"
     ]
    }
   ],
   "source": [
    "SVR_model = SVR()\n",
    "SVR_model.fit(scaler.transform(xtrain[training_vars]), ytrain)\n",
    "\n",
    "xtrain.replace([np.inf, -np.inf], np.nan, inplace=True)\n",
    "xtest.replace([np.inf, -np.inf], np.nan, inplace=True)\n",
    "ytrain.replace([np.inf, -np.inf], np.nan, inplace=True)\n",
    "ytest.replace([np.inf, -np.inf], np.nan, inplace=True)\n",
    "\n",
    "pred = SVR_model.predict(scaler.transform(xtrain[training_vars]))\n",
    "print('SVR train mse: {}'.format(mean_squared_error(ytrain, pred)))\n",
    "pred = SVR_model.predict(scaler.transform(xtest[training_vars]))\n",
    "print('SVR test mse: {}'.format(mean_squared_error(ytest, pred)))"
   ]
  },
  {
   "cell_type": "code",
   "execution_count": 59,
   "metadata": {},
   "outputs": [],
   "source": [
    "import lazypredict"
   ]
  },
  {
   "cell_type": "code",
   "execution_count": 62,
   "metadata": {},
   "outputs": [
    {
     "ename": "ModuleNotFoundError",
     "evalue": "No module named 'sklearn.utils.testing'",
     "output_type": "error",
     "traceback": [
      "\u001b[1;31m---------------------------------------------------------------------------\u001b[0m",
      "\u001b[1;31mModuleNotFoundError\u001b[0m                       Traceback (most recent call last)",
      "\u001b[1;32m<ipython-input-62-76cf716b3823>\u001b[0m in \u001b[0;36m<module>\u001b[1;34m\u001b[0m\n\u001b[1;32m----> 1\u001b[1;33m \u001b[1;32mfrom\u001b[0m \u001b[0mlazypredict\u001b[0m\u001b[1;33m.\u001b[0m\u001b[0mSupervised\u001b[0m \u001b[1;32mimport\u001b[0m \u001b[0mLazyRegressor\u001b[0m\u001b[1;33m\u001b[0m\u001b[1;33m\u001b[0m\u001b[0m\n\u001b[0m\u001b[0;32m      2\u001b[0m \u001b[1;32mfrom\u001b[0m \u001b[0msklearn\u001b[0m \u001b[1;32mimport\u001b[0m \u001b[0mdatasets\u001b[0m\u001b[1;33m\u001b[0m\u001b[1;33m\u001b[0m\u001b[0m\n\u001b[0;32m      3\u001b[0m \u001b[1;32mfrom\u001b[0m \u001b[0msklearn\u001b[0m\u001b[1;33m.\u001b[0m\u001b[0mutils\u001b[0m\u001b[1;33m.\u001b[0m\u001b[0m_testing\u001b[0m \u001b[1;32mimport\u001b[0m \u001b[0mignore_warnings\u001b[0m\u001b[1;33m\u001b[0m\u001b[1;33m\u001b[0m\u001b[0m\n\u001b[0;32m      4\u001b[0m \u001b[1;32mfrom\u001b[0m \u001b[0msklearn\u001b[0m\u001b[1;33m.\u001b[0m\u001b[0mutils\u001b[0m\u001b[1;33m.\u001b[0m\u001b[0m_testing\u001b[0m \u001b[1;32mimport\u001b[0m \u001b[0mall_estimators\u001b[0m\u001b[1;33m\u001b[0m\u001b[1;33m\u001b[0m\u001b[0m\n\u001b[0;32m      5\u001b[0m \u001b[1;32mfrom\u001b[0m \u001b[0msklearn\u001b[0m\u001b[1;33m.\u001b[0m\u001b[0mutils\u001b[0m\u001b[1;33m.\u001b[0m\u001b[0m_testing\u001b[0m \u001b[1;32mimport\u001b[0m \u001b[0mshuffle\u001b[0m\u001b[1;33m\u001b[0m\u001b[1;33m\u001b[0m\u001b[0m\n",
      "\u001b[1;32mc:\\users\\gokul\\appdata\\local\\programs\\python\\python38\\lib\\site-packages\\lazypredict\\Supervised.py\u001b[0m in \u001b[0;36m<module>\u001b[1;34m\u001b[0m\n\u001b[0;32m     14\u001b[0m \u001b[1;32mfrom\u001b[0m \u001b[0msklearn\u001b[0m\u001b[1;33m.\u001b[0m\u001b[0mpreprocessing\u001b[0m \u001b[1;32mimport\u001b[0m \u001b[0mStandardScaler\u001b[0m\u001b[1;33m,\u001b[0m \u001b[0mOneHotEncoder\u001b[0m\u001b[1;33m\u001b[0m\u001b[1;33m\u001b[0m\u001b[0m\n\u001b[0;32m     15\u001b[0m \u001b[1;32mfrom\u001b[0m \u001b[0msklearn\u001b[0m\u001b[1;33m.\u001b[0m\u001b[0mcompose\u001b[0m \u001b[1;32mimport\u001b[0m \u001b[0mColumnTransformer\u001b[0m\u001b[1;33m\u001b[0m\u001b[1;33m\u001b[0m\u001b[0m\n\u001b[1;32m---> 16\u001b[1;33m \u001b[1;32mfrom\u001b[0m \u001b[0msklearn\u001b[0m\u001b[1;33m.\u001b[0m\u001b[0mutils\u001b[0m\u001b[1;33m.\u001b[0m\u001b[0mtesting\u001b[0m \u001b[1;32mimport\u001b[0m \u001b[0mall_estimators\u001b[0m\u001b[1;33m\u001b[0m\u001b[1;33m\u001b[0m\u001b[0m\n\u001b[0m\u001b[0;32m     17\u001b[0m \u001b[1;32mfrom\u001b[0m \u001b[0msklearn\u001b[0m\u001b[1;33m.\u001b[0m\u001b[0mbase\u001b[0m \u001b[1;32mimport\u001b[0m \u001b[0mRegressorMixin\u001b[0m\u001b[1;33m\u001b[0m\u001b[1;33m\u001b[0m\u001b[0m\n\u001b[0;32m     18\u001b[0m \u001b[1;32mfrom\u001b[0m \u001b[0msklearn\u001b[0m\u001b[1;33m.\u001b[0m\u001b[0mbase\u001b[0m \u001b[1;32mimport\u001b[0m \u001b[0mClassifierMixin\u001b[0m\u001b[1;33m\u001b[0m\u001b[1;33m\u001b[0m\u001b[0m\n",
      "\u001b[1;31mModuleNotFoundError\u001b[0m: No module named 'sklearn.utils.testing'"
     ]
    }
   ],
   "source": [
    "from lazypredict.Supervised import LazyRegressor\n",
    "from sklearn import datasets\n",
    "from sklearn.utils._testing import ignore_warnings\n",
    "from sklearn.utils._testing import all_estimators\n",
    "from sklearn.utils._testing import shuffle\n",
    "import numpy as np\n",
    "\n",
    "reg = LazyRegressor(verbose=0,ignore_warnings=False, custom_metric=None)\n",
    "models,predictions = reg.fit(xtrain, xtest, ytrain, ytest)\n",
    "\n",
    "print(models)"
   ]
  }
 ],
 "metadata": {
  "kernelspec": {
   "display_name": "Python 3",
   "language": "python",
   "name": "python3"
  },
  "language_info": {
   "codemirror_mode": {
    "name": "ipython",
    "version": 3
   },
   "file_extension": ".py",
   "mimetype": "text/x-python",
   "name": "python",
   "nbconvert_exporter": "python",
   "pygments_lexer": "ipython3",
   "version": "3.8.1"
  }
 },
 "nbformat": 4,
 "nbformat_minor": 4
}
